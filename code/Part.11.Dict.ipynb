{
 "cells": [
  {
   "cell_type": "markdown",
   "metadata": {},
   "source": [
    "# 第11章 字典\n"
   ]
  },
  {
   "cell_type": "code",
   "execution_count": null,
   "metadata": {},
   "outputs": [],
   "source": [
    "# 1. 字典即映射\n",
    "eng2sp = dict()\n",
    "eng2sp\n",
    "\n",
    "eng2sp['one'] = 'uno'\n",
    "eng2sp\n",
    "\n",
    "eng2sp = {'one': 'uno', 'two': 'dos', 'three': 'tres'}\n",
    "eng2sp\n",
    "\n",
    "# 键值对的顺序是不一样的，无序的。因为字典的元素从来不是用证书索引去检索的，而是用键来寻找相应的值：\n",
    "eng2sp['two']\n",
    "# 键'two' 总是映射到值'dos'，所以项的顺序就无关紧要了。\n",
    "\n",
    "len(eng2sp)\n",
    "\n",
    "# 运算符 in 对字典同样有效，它可以判断某个key是否存在于字典的键中（而不是值中）\n",
    "'one' in eng2sp\n",
    "\n",
    "# 若要确定值是否存在于字典中，可以用 values 方法，它会返回值的集合，然后使用 in 运算符\n",
    "values = eng2sp.values()\n",
    "'uno' in values\n",
    "\n",
    "# python 中的字典使用了叫做哈希表的数据结构，无论字典中有多少项，in运算符都耗时相同。"
   ]
  },
  {
   "cell_type": "code",
   "execution_count": 35,
   "metadata": {},
   "outputs": [
    {
     "data": {
      "text/plain": [
       "0"
      ]
     },
     "execution_count": 35,
     "metadata": {},
     "output_type": "execute_result"
    }
   ],
   "source": [
    "# 2. 以字典为计数器\n",
    "\n",
    "# 一种实现便是一种运算方式；有好有坏。比如，用字典实现的优势在于，我们无需提前知道字符串中存在哪些字母，\n",
    "# 我们只需要为每个出现的字母提供空间而已。\n",
    "\n",
    "# def histogram(s):\n",
    "#     d = dict()\n",
    "#     for c in s:\n",
    "#         if c not in d:\n",
    "#             d[c] = 1\n",
    "#         else:\n",
    "#             d[c] += 1\n",
    "#     return d\n",
    "\n",
    "def histogram(s):\n",
    "    d = dict()\n",
    "    for c in s:\n",
    "        d[c] = 1 + d.get(c, 0)\n",
    "    return d\n",
    "\n",
    "h = histogram('brontosaurus')\n",
    "\n",
    "# 字典有个方法，叫做get，以键和默认值为参数。如果键在字典中，get则返回对应的值；否则，会返回默认值\n",
    "h.get('a', 0)\n",
    "h.get('c', 0)\n",
    "\n"
   ]
  },
  {
   "cell_type": "code",
   "execution_count": null,
   "metadata": {},
   "outputs": [],
   "source": [
    "# 3. 反向查找\n",
    "# 通过反向遍历操作，传入字典和vlaue。相同的值可能会有多个key，循环遍历取值并比较，得到第一个key并返回。\n",
    "# 如果循环结束还未找到就抛出异常。\n",
    "\n",
    "# 反向查找比正向查找要慢得多；如果使用频繁，或者字典过大，都会对程序性能造成影响。\n"
   ]
  },
  {
   "cell_type": "code",
   "execution_count": 40,
   "metadata": {},
   "outputs": [
    {
     "data": {
      "text/plain": [
       "5702887"
      ]
     },
     "execution_count": 40,
     "metadata": {},
     "output_type": "execute_result"
    }
   ],
   "source": [
    "# 6. 缓存\n",
    "# 跟踪并记录已经计算过的数据，将其存储到字典中。将之前计算过的值存储起来，方便后续使用，这种操作叫做缓存。\n",
    "\n",
    "known = {0:0, 1:1}\n",
    "\n",
    "def fibonacci(n):\n",
    "    if n in known:\n",
    "        return known[n]\n",
    "    res = fibonacci(n-1) + fibonacci(n-2)\n",
    "    known[n] = res\n",
    "    return res\n",
    "\n",
    "fibonacci(34)"
   ]
  },
  {
   "cell_type": "code",
   "execution_count": null,
   "metadata": {},
   "outputs": [],
   "source": [
    "# 7. 全局变量\n",
    "\n",
    "# 全局变量，一个常用的地方，便是作为标识使用。如果要在函数内修改全局变量，需要在赋值前，声明这是全局变量。\n",
    "# 如果全局变量是可变的值，比如列表或字典，那在修改前就无需声明全局变量。\n",
    "# 但若是想对变量重新赋值，需要提前声明全局变量：\n",
    "\n",
    "# 全局变量是很有用，但如果到处使用，并且还频繁修改，那就会使程序变得难以调试。"
   ]
  },
  {
   "cell_type": "markdown",
   "metadata": {},
   "source": [
    "**11.8 调试**\n",
    "\n",
    "随着数据集越来越大，仅仅使用打印输出以及手工校验结果的手段进行调试，略显不便。\n",
    "\n",
    "**降低输入规模：** 降低数据集大小。比如，读取文本文件，只读取前10行。或修改程序，只读取前n行。\n",
    "\n",
    "**校验概览及类型：** 不用打印校验全部数据集，只需要输出概览，比如字典的个数或者列表中总数量。值类型错误，是运行时错误的常见原因，通常打印值的类型即可。type（）\n",
    "\n",
    "**编写自建代码：** 有时候，可以编写代码自动检验异常。也可以比较两种不同解法的结果，看是否一致。这叫做“一致性检验”。\n",
    "\n",
    "**格式化输出：** 格式化调试的输出，可以更直观地展示错误。\n",
    "\n",
    "再次强调，构建脚手架花费时间越长，调试耗费时间越少。"
   ]
  },
  {
   "cell_type": "code",
   "execution_count": 42,
   "metadata": {},
   "outputs": [],
   "source": [
    "# 1. 编写函数，读取 words.txt 中的单词，将其作为键存储于字典中，值是什么无关紧要，\n",
    "# 然后便可以用 in 运算符快速检验某个字符串是否在字典中。\n",
    "\n",
    "word_dict = {}\n",
    "\n",
    "def init_dict(s):\n",
    "    global word_dict\n",
    "    fin = open('words.txt')\n",
    "    for f in fin:\n",
    "        word_dict[f] = word_dict.get(f, 1)\n",
    "        \n",
    "    \n"
   ]
  },
  {
   "cell_type": "code",
   "execution_count": null,
   "metadata": {},
   "outputs": [],
   "source": []
  }
 ],
 "metadata": {
  "kernelspec": {
   "display_name": "Python 3",
   "language": "python",
   "name": "python3"
  },
  "language_info": {
   "codemirror_mode": {
    "name": "ipython",
    "version": 3
   },
   "file_extension": ".py",
   "mimetype": "text/x-python",
   "name": "python",
   "nbconvert_exporter": "python",
   "pygments_lexer": "ipython3",
   "version": "3.9.6"
  }
 },
 "nbformat": 4,
 "nbformat_minor": 2
}
