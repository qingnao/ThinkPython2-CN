{
 "cells": [
  {
   "cell_type": "markdown",
   "metadata": {},
   "source": [
    "# 迭代\n",
    "\n",
    "**7.1 重新赋值**\n",
    "\n",
    "很多时候我们需要给变量重新赋值，但是要谨慎使用。如果变量的值变动过于频繁，代码后续将难以理解，同时调试也困难。\n",
    "\n",
    "\n"
   ]
  },
  {
   "cell_type": "markdown",
   "metadata": {},
   "source": [
    "**7.3 while 语句**\n",
    "\n",
    "计算机通常用于自动化一些重复性工作。对于大量重复的相同或相似任务，计算机可以永不犯错，这也是计算机精擅之处，却恰恰是人类最不擅长的。在计算机编程中，这种重复，便称作`迭代`。"
   ]
  },
  {
   "cell_type": "markdown",
   "metadata": {},
   "source": [
    "**7.4 break语句**\n",
    "\n",
    "有时，想要出世，就需要先入世，只有进入循环体，才知道何时应当终止循环（好有禅意的一句话，怪不得说它是Python沉思录）。这时，我们可以用 `break` 语句跳出循环"
   ]
  },
  {
   "cell_type": "markdown",
   "metadata": {},
   "source": [
    "[1]:这是一个数字的脚注\n",
    "[2]:这是一个单词的脚注"
   ]
  },
  {
   "cell_type": "code",
   "execution_count": 11,
   "metadata": {},
   "outputs": [
    {
     "name": "stdout",
     "output_type": "stream",
     "text": [
      "9 * n, 48207789\n",
      "第一位数字，5356420\n",
      "第二位数字，-5356411\n",
      "最终结果是，48207789\n"
     ]
    }
   ],
   "source": [
    "n = 5356421\n",
    "print(f'9 * n, {9*n}')\n",
    "\n",
    "print(f'第一位数字，{n-1}')\n",
    "print(f'第二位数字，{10-n}')\n",
    "print(f'最终结果是，{10*(n-1) + (10-n)}')"
   ]
  },
  {
   "cell_type": "markdown",
   "metadata": {},
   "source": [
    "**7.6 算法**\n",
    "\n",
    "你学过的进位加法，借位减法，以及长除法，都是算法。这些算法的一个共性便是，都无需费力思考。他们都是机械的过程，遵循简单的规则，一步步操作，便可得到结果。\n",
    "\n",
    "执行算法固然无聊，但其设计过程却既有趣又挑战智力，同时也是计算机科学的核心。"
   ]
  }
 ],
 "metadata": {
  "kernelspec": {
   "display_name": "Python 3",
   "language": "python",
   "name": "python3"
  },
  "language_info": {
   "codemirror_mode": {
    "name": "ipython",
    "version": 3
   },
   "file_extension": ".py",
   "mimetype": "text/x-python",
   "name": "python",
   "nbconvert_exporter": "python",
   "pygments_lexer": "ipython3",
   "version": "3.9.6"
  }
 },
 "nbformat": 4,
 "nbformat_minor": 2
}
