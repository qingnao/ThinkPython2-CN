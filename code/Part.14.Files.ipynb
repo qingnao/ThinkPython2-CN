{
 "cells": [
  {
   "cell_type": "markdown",
   "metadata": {},
   "source": [
    "# 第14章 文件\n",
    "\n",
    "本章介绍程序将数据保存在永久存储中的\"持久化\"概念，同时展示如何使用不同类型的永久存储，比如文件和数据库。"
   ]
  },
  {
   "cell_type": "markdown",
   "metadata": {},
   "source": [
    "**14.2 读和写**\n",
    "\n",
    "若要写入文件，需要在打开文件时，用模式'w'作为第二个参数：\n",
    "\n",
    "fout = open('output.txt', 'w')\n",
    "\n",
    "如果文件已存在，采用写入模式打开文件会清除原有内容，重新写入，所以要格外谨慎！如果文件不存在，则会新建一个。\n",
    "\n",
    "open函数会返回一个文件对象，此对象提供了各种操作文件的方法。write方法可以将数据写入文件，返回值是已写入的字符数量。文件对象还会跟踪记录位置，当你再次调用write函数的时候，就在后面追加。操作完文件，需要调用close关闭文件。如果没有关闭文件，程序结束时，也会自动关闭它。"
   ]
  },
  {
   "cell_type": "markdown",
   "metadata": {},
   "source": [
    "**14.3 格式运算符**\n",
    "\n",
    "write的参数是字符串，要是向文件里写入其他类型，需要先转换成字符串。可以调用str()方法，比如str(1)"
   ]
  },
  {
   "cell_type": "code",
   "execution_count": 15,
   "metadata": {},
   "outputs": [
    {
     "data": {
      "text/plain": [
       "True"
      ]
     },
     "execution_count": 15,
     "metadata": {},
     "output_type": "execute_result"
    }
   ],
   "source": [
    "# 14.4 文件名和路径\n",
    "# os模块（即 \"operating system\"）提供了操作文件和目录的函数。os.getcwd会返回当前目录的名称：\n",
    "\n",
    "import os\n",
    "\n",
    "# cwd 意为 \"current working directory\"，即“当前工作目录”.\n",
    "cwd = os.getcwd()\n",
    "cwd\n",
    "\n",
    "# 以 / 开头的路径，不依赖当前目录，叫做绝对路径。要找到一个文件的绝对路径，可以使用 os.path.abspath\n",
    "os.path.abspath('memo.txt')\n",
    "\n",
    "# os.path 提供了处理文件名和路径的其他一些方法。比如，os.path.exists 会检查文件或目录是否存在：\n",
    "os.path.exists('emma.txt')\n",
    "\n",
    "# 如果存在，os.path.isdir 可以用来检查其是否是一个目录：\n",
    "os.path.isdir('memo.txt')"
   ]
  },
  {
   "cell_type": "code",
   "execution_count": null,
   "metadata": {},
   "outputs": [],
   "source": [
    "# walks 函数会遍历一个目录，输出所有文件的名称，同时递归遍历自己所有目录\n",
    "\n",
    "def walk(dirname):\n",
    "    for name in os.listdir(dirname):\n",
    "        path = os.path.join(dirname, name)\n",
    "        \n",
    "        if os.path.isfile(path):\n",
    "            print(path)\n",
    "        else:\n",
    "            walk(path)\n",
    "\n",
    "walk('.')"
   ]
  },
  {
   "cell_type": "code",
   "execution_count": 21,
   "metadata": {},
   "outputs": [
    {
     "name": "stdout",
     "output_type": "stream",
     "text": [
      "Something went wrong.\n"
     ]
    }
   ],
   "source": [
    "# 14.5 捕获异常\n",
    "\n",
    "# 当你读写文件时，很多意外会发生。如果尝试打开一个不存在的文件，通常会得到 FileNotFoundError:\n",
    "# fin = open('bad_file')\n",
    "# FileNotFoundError: [Errno 2] No such file or directory: 'bad_file'\n",
    "\n",
    "# 如果你没有权限访问文件，也会异常：\n",
    "# fout = open('/etc/passwd', 'w')\n",
    "# PermissionError: [Errno 1] Operation not permitted: '/etc/passwd'\n",
    "\n",
    "# 如果你尝试打开一个目录，读取内容，会得到下面异常：\n",
    "# fin = open('/home')\n",
    "# PermissionError: [Errno 1] Operation not permitted: '/home'\n",
    "\n",
    "# 想要避免这些错误，你可以使用 os.path.exists 和 os.path.isfile 这样的函数，\n",
    "# 但是会耗费大量时间，编写大量代码来检验各种可能（如果说“Error 21” 代表什么的话，那便是至少有21个异常会发生）。\n",
    "\n",
    "# 所以更好的做法是尽早尝试，尽快应对可能的异常，而这恰恰是 try 语句的作用。其语法和 if...else 语句很相似：\n",
    "try:\n",
    "    fin = open('bad_file')\n",
    "except:\n",
    "    print('Something went wrong.')\n"
   ]
  },
  {
   "cell_type": "code",
   "execution_count": null,
   "metadata": {},
   "outputs": [],
   "source": [
    "# 14.6 数据库\n",
    "import dbm\n",
    "\n",
    "db = dbm.open('captions', 'c')\n",
    "db['cleese.png'] = 'phone of John Cleese.'\n",
    "db['cleese.png']\n",
    "\n",
    "# 结果是一个字节对象，所以会用 b 开头。字节对象和字符串在很多地方很相似。随着你对 Python 的理解不断深入，\n",
    "# 这种差异便需要引起重视，但是目前为止，可以暂时忽略这些差异。\n",
    "\n",
    "db['cleese.png'] = 'Phone of John Cleese doing a silly walk.'\n",
    "db['cleese.png']\n",
    "\n",
    "# 字典的某些方法可能并不适用于数据库对象。但是可以用for循环对其进行迭代，遍历对象：\n",
    "for key in db:\n",
    "    print(key, db[key])\n",
    "    \n",
    "# 和操作其它文件一样，用完之后，需要关闭数据库：\n",
    "db.close()"
   ]
  },
  {
   "cell_type": "code",
   "execution_count": 30,
   "metadata": {},
   "outputs": [
    {
     "data": {
      "text/plain": [
       "5"
      ]
     },
     "execution_count": 30,
     "metadata": {},
     "output_type": "execute_result"
    }
   ],
   "source": [
    "# 14.9 编写模块\n",
    "\n",
    "# 任何包含Python代码的文件，都可以作为模块导入使用。\n",
    "\n",
    "import wc\n",
    "# 现在我有一个模块 wc 了，同时模块提供了 linecount 函数：\n",
    "wc.linecount('wc.py')\n",
    "\n"
   ]
  },
  {
   "cell_type": "code",
   "execution_count": null,
   "metadata": {},
   "outputs": [],
   "source": [
    "# 14.10 调试\n",
    "\n",
    "# 当读写文件时，可能会遇到一些空白导致的问题。这些问题很难被发现，因为空格，制表符和换行符都是不可见的。\n",
    "\n",
    "s = '1 2\\t 3\\n 4'\n",
    "print(s)\n",
    "# 1 2 3 4\n",
    "# 这时便用到了内置函数 repr . 这个函数可以接收任何对象作为参数, 返回对象的字符串表\n",
    "# 示. 对于字符串来说, 它会将空白字符输出为反斜杠序列:\n",
    "print(repr(s))\n",
    "'1 2\\t 3\\n 4'\n",
    "# 这个对于调试来说, 非常有用"
   ]
  },
  {
   "cell_type": "code",
   "execution_count": 35,
   "metadata": {},
   "outputs": [],
   "source": [
    "# 14.12 习题集\n",
    "\n",
    "# 1. 编写一个名为 sed 的函数，接受一个模式字符串，一个替换字符串，以及两个文件名；这个函数需要读取第一个文件，\n",
    "# 然后将内容写入第二个文件（如果没有，需要创建）如果文件中出现模式字符串，则用替换字符串进行替换。\n",
    "\n",
    "def sed(pattern, replace, source, dest):\n",
    "    fin = open(source, 'r')\n",
    "    fout = open(dest, 'w')\n",
    "    \n",
    "    for line in fin:\n",
    "        line.replace(pattern, replace)\n",
    "        fout.write(line)\n",
    "\n",
    "def main():\n",
    "    pattern = 'pattern'\n",
    "    replace = 'replace'\n",
    "    source = 'memo.txt'\n",
    "    dest = source + '.replaced'\n",
    "    sed(pattern, replace, source, dest)\n",
    "\n",
    "\n",
    "if __name__ == '__main__':\n",
    "    main()"
   ]
  },
  {
   "cell_type": "code",
   "execution_count": null,
   "metadata": {},
   "outputs": [],
   "source": [
    "# 查找重复歌曲\n"
   ]
  }
 ],
 "metadata": {
  "kernelspec": {
   "display_name": "Python 3",
   "language": "python",
   "name": "python3"
  },
  "language_info": {
   "codemirror_mode": {
    "name": "ipython",
    "version": 3
   },
   "file_extension": ".py",
   "mimetype": "text/x-python",
   "name": "python",
   "nbconvert_exporter": "python",
   "pygments_lexer": "ipython3",
   "version": "3.9.6"
  }
 },
 "nbformat": 4,
 "nbformat_minor": 2
}
