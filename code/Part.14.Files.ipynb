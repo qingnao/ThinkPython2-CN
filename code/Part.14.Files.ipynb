{
 "cells": [
  {
   "cell_type": "markdown",
   "metadata": {},
   "source": [
    "# 第14章 文件\n",
    "\n",
    "本章介绍程序将数据保存在永久存储中的\"持久化\"概念，同时展示如何使用不同类型的永久存储，比如文件和数据库。"
   ]
  },
  {
   "cell_type": "markdown",
   "metadata": {},
   "source": [
    "**14.2 读和写**\n",
    "\n",
    "若要写入文件，需要在打开文件时，用模式'w'作为第二个参数：\n",
    "\n",
    "fout = open('output.txt', 'w')\n",
    "\n",
    "如果文件已存在，采用写入模式打开文件会清除原有内容，重新写入，所以要格外谨慎！如果文件不存在，则会新建一个。"
   ]
  },
  {
   "cell_type": "markdown",
   "metadata": {},
   "source": []
  }
 ],
 "metadata": {
  "language_info": {
   "name": "python"
  }
 },
 "nbformat": 4,
 "nbformat_minor": 2
}
