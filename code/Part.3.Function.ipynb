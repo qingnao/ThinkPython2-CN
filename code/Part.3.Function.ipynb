{
 "cells": [
  {
   "cell_type": "code",
   "execution_count": 16,
   "metadata": {},
   "outputs": [
    {
     "name": "stdout",
     "output_type": "stream",
     "text": [
      "I'm a lumberjack, and I'm okay.\n",
      "I sleep all night and I work all day.\n",
      "I'm a lumberjack, and I'm okay.\n",
      "I sleep all night and I work all day.\n"
     ]
    }
   ],
   "source": [
    "def print_lyrics():\n",
    "    print(\"I'm a lumberjack, and I'm okay.\")\n",
    "    print(\"I sleep all night and I work all day.\")\n",
    "    \n",
    "# print_lyrics()\n",
    "\n",
    "def repeat_lyrics():\n",
    "    print_lyrics()\n",
    "    print_lyrics()\n",
    "    \n",
    "repeat_lyrics()"
   ]
  },
  {
   "cell_type": "markdown",
   "metadata": {},
   "source": [
    "函数调用就像执行流程中的绕路，不会继续向下执行语句，而是跳转到函数体内，执行其中语句，完成后再回到离开的地方，继续执行之前的语句。Python解释器能够有效追踪函数的执行流程，才可以在函数执行完成后，回到函数被调用的地方，继续执行，直到结束。\n",
    "\n",
    "当你阅读程序时，不要总是自上而下阅读程序，有时候按照执行流程来阅读更便于理解。"
   ]
  },
  {
   "cell_type": "code",
   "execution_count": 27,
   "metadata": {},
   "outputs": [
    {
     "name": "stdout",
     "output_type": "stream",
     "text": [
      "Spam Spam Spam Spam \n",
      "Spam Spam Spam Spam \n",
      "42 42 42 42 \n",
      "42 42 42 42 \n",
      "Eric, the half a bee.\n",
      "Eric, the half a bee.\n"
     ]
    }
   ],
   "source": [
    "def print_twice(bruce):\n",
    "    print(bruce)\n",
    "    print(bruce)\n",
    "    \n",
    "print_twice('Spam ' *4)\n",
    "print_twice('42 ' *4)\n",
    "\n",
    "michael = 'Eric, the half a bee.'\n",
    "print_twice(michael)\n",
    "\n",
    "# 函数实参的变量命名（michael）和函数形参的命名（bruce）没有关系。\n",
    "# 无论外部传递进来的值如何命名，函数print_twice内部，我们统称其为bruce。"
   ]
  },
  {
   "cell_type": "code",
   "execution_count": 34,
   "metadata": {},
   "outputs": [
    {
     "name": "stdout",
     "output_type": "stream",
     "text": [
      "Bing tiddle tiddle bang.\n",
      "Bing tiddle tiddle bang.\n"
     ]
    },
    {
     "ename": "NameError",
     "evalue": "name 'cat' is not defined",
     "output_type": "error",
     "traceback": [
      "\u001b[0;31m---------------------------------------------------------------------------\u001b[0m",
      "\u001b[0;31mNameError\u001b[0m                                 Traceback (most recent call last)",
      "Cell \u001b[0;32mIn[34], line 18\u001b[0m\n\u001b[1;32m     15\u001b[0m cat_twice(line1, line2)\n\u001b[1;32m     17\u001b[0m \u001b[38;5;66;03m# cat_twice 运行结束，内部变量 cat 便被销毁。如果现在尝试打印它，会报错\u001b[39;00m\n\u001b[0;32m---> 18\u001b[0m \u001b[38;5;28mprint\u001b[39m(\u001b[43mcat\u001b[49m)\n\u001b[1;32m     19\u001b[0m \u001b[38;5;66;03m# NameError: name 'cat' is not defined\u001b[39;00m\n\u001b[1;32m     20\u001b[0m \u001b[38;5;66;03m# 形参都是局部的，例如变量 bruce便不会出现在 print_twice函数之外\u001b[39;00m\n",
      "\u001b[0;31mNameError\u001b[0m: name 'cat' is not defined"
     ]
    }
   ],
   "source": [
    "# 函数内部定义的变量都是局部的，也就是说，只能作用于函数内部，\n",
    "\n",
    "def print_twice(bruce):\n",
    "    print(bruce)\n",
    "    print(bruce)\n",
    "    \n",
    "    \n",
    "def cat_twice(part1, part2):\n",
    "    cat = part1 + part2\n",
    "    print_twice(cat)\n",
    "\n",
    "\n",
    "line1 = 'Bing tiddle '\n",
    "line2 = 'tiddle bang.'\n",
    "cat_twice(line1, line2)\n",
    "\n",
    "# cat_twice 运行结束，内部变量 cat 便被销毁。如果现在尝试打印它，会报错\n",
    "# print(cat)\n",
    "# NameError: name 'cat' is not defined\n",
    "# 形参都是局部的，例如变量 bruce便不会出现在 print_twice函数之外\n"
   ]
  },
  {
   "cell_type": "markdown",
   "metadata": {},
   "source": [
    "**3.10 有值函数和物质函数**"
   ]
  },
  {
   "cell_type": "markdown",
   "metadata": {},
   "source": [
    "目前用到过的一些函数，例如 math 函数，都会返回结果，一得之见，暂称有值函数。其他函数，像 print_twice，运行完成，并不会返回值，便叫做无值函数。\n",
    "\n",
    "无值函数只是不会有返回值，如果将函数运行结果赋值到某个变量，那变量会指向一个特殊的值：None"
   ]
  },
  {
   "cell_type": "markdown",
   "metadata": {},
   "source": [
    "**3.11 函数何用**\n",
    "\n",
    "将程序划分为一个个函数是否值得，对此的考量，可以参看以下缘由：\n",
    "\n",
    "> * 函数可以将一组语句起个名字，使程序便于阅读和调试。\n",
    "> * 函数可以消除重复，简化代码，针对功能，修改一处即可。\n",
    "> * 将程序切分为函数，可以分别调试，然后组合它们即可。\n",
    "> * 设计良好的函数对很多程序都有用，一旦编写调试了一个函数，便可以多次复用。"
   ]
  },
  {
   "cell_type": "markdown",
   "metadata": {},
   "source": [
    "**3.12 调试**"
   ]
  },
  {
   "cell_type": "markdown",
   "metadata": {},
   "source": [
    "编程最重要的技能之一就是调试了，虽往往令人黯然神伤，愁眉难舒，却是编程中最考验才智，最富有挑战同时最有趣的地方。\n",
    "\n",
    "在某些方面，调试和侦探工作很像。面对线索，有效推理，确定造就结果的流程和缘由。\n",
    "\n",
    "调试也像实验科学，针对问题，一旦有所想法，便可修改程序，再次尝试。如果假设正确，便可预期修改后的结果，向可执行的程序代码推进。如果假设错误，便要继续探究了。正如Sherlock Holmes(夏洛克·福尔摩斯)所说，“当你排除所有不可能因素，留下来的东西，即使看似不可能，也必定是真相。”\n",
    "\n",
    "对某些人而言，编程便是调试。这是因为，编程便是不断调试程序，直到实现目标的过程。所以，你应该从一个能够工作的程序开始，逐步进行小的修改，并在修改的同时进行测试。"
   ]
  },
  {
   "cell_type": "markdown",
   "metadata": {},
   "source": [
    "**3.13 术语表**\n",
    "\n",
    "溯源（traceback）:异常发生时，打印的正在执行的函数列表。\n",
    "\n",
    "``` Python\n",
    "NameError                                 Traceback (most recent call last)\n",
    "Cell In[34], line 18\n",
    "     15 cat_twice(line1, line2)\n",
    "     17 # cat_twice 运行结束，内部变量 cat 便被销毁。如果现在尝试打印它，会报错\n",
    "---> 18 print(cat)\n",
    "     19 # NameError: name 'cat' is not defined\n",
    "     20 # 形参都是局部的，例如变量 bruce便不会出现在 print_twice函数之外\n",
    "\n",
    "NameError: name 'cat' is not defined\n",
    "```\n",
    "\n",
    "这一系列跟踪函数的信息叫做溯源，这些信息会显示是哪个文件出错，哪行出错，以及运行时函数，甚至引起错误的代码行号。\n",
    "\n",
    "在溯源信息中的函数次序和栈图中的框的次序是一致的，当前正在运行的函数都在最下面。\n"
   ]
  },
  {
   "cell_type": "markdown",
   "metadata": {},
   "source": [
    "**3.14 习题集**"
   ]
  },
  {
   "cell_type": "code",
   "execution_count": 63,
   "metadata": {},
   "outputs": [
    {
     "name": "stdout",
     "output_type": "stream",
     "text": [
      "spam\n",
      "spam\n",
      "\n",
      "spam\n",
      "spam\n",
      "spam\n",
      "spam\n"
     ]
    }
   ],
   "source": [
    "# def right_justify(s):\n",
    "#     # 先计算出除了输入值之外的空格数是多少，用len()函数计算出输入值的字符长度\n",
    "#     spaces = 70 - len(s)\n",
    "#     result = ' ' * spaces + s\n",
    "#     print(result)\n",
    "    \n",
    "# right_justify('monty')\n",
    "\n",
    "\n",
    "\n",
    "def do_twice(func, arg):\n",
    "    \"\"\"执行一个函数两次\n",
    "    \n",
    "    func: 函数对象\n",
    "    arg: 传递给函数的参数\n",
    "    \"\"\"\n",
    "    func(arg)\n",
    "    func(arg)\n",
    "    \n",
    "def do_four(func, arg):\n",
    "    \"\"\"执行一个函数四次\n",
    "    \n",
    "    func: function object\n",
    "    arg: argument passed to the function\n",
    "    \"\"\"\n",
    "    do_twice(func, arg)\n",
    "    do_twice(func, arg)\n",
    "    \n",
    "    \n",
    "\n",
    "do_twice(print, 'spam')\n",
    "print('')\n",
    "\n",
    "do_four(print, 'spam')\n"
   ]
  },
  {
   "cell_type": "code",
   "execution_count": 92,
   "metadata": {},
   "outputs": [
    {
     "name": "stdout",
     "output_type": "stream",
     "text": [
      "+ - - -\n"
     ]
    }
   ],
   "source": [
    "# Exercose 3.3. 说明：此习题应该只使用我们学过的语句和特性来完成。\n",
    "\n",
    "# 1. 编写绘制下面网格图的函数：\n",
    "# print('+', '-')\n",
    "# print('-', end=' ')\n",
    "# print('-')\n",
    "\n",
    "spaces_char = ' ' *7\n",
    "print('+', '-', '-', '-', '-', '+', '-', '-', '-', '-', '+')\n",
    "\n",
    "print('|', spaces_char, '|', spaces_char, '|')\n",
    "print('|', spaces_char, '|', spaces_char, '|')\n",
    "print('|', spaces_char, '|', spaces_char, '|')\n",
    "print('|', spaces_char, '|', spaces_char, '|')\n",
    "print('+', '-', '-', '-', '-', '+', '-', '-', '-', '-', '+')\n",
    "print('|', spaces_char, '|', spaces_char, '|')\n",
    "print('|', spaces_char, '|', spaces_char, '|')\n",
    "print('|', spaces_char, '|', spaces_char, '|')\n",
    "print('|', spaces_char, '|', spaces_char, '|')\n",
    "print('+', '-', '-', '-', '-', '+', '-', '-', '-', '-', '+')"
   ]
  },
  {
   "cell_type": "code",
   "execution_count": 100,
   "metadata": {},
   "outputs": [
    {
     "name": "stdout",
     "output_type": "stream",
     "text": [
      "- - - -\n",
      "- - - -\n",
      "- - - -\n",
      "- - - -\n"
     ]
    }
   ],
   "source": [
    "# 2. 编写一个函数，以四行四列的形式绘制类似网格\n",
    "# 怎么绘制四行四列呢？先以最简单的方式实现，比如先用我的代码实现它，看看是什么样子\n",
    "\n",
    "#  根据是否换行而传入 '\\n' 或者 ' '来决定\n",
    "# print('+', '-', '-', '+')\n",
    "# print('+', end='')\n",
    "# print('-', end='')\n",
    "# print('-', end='')\n",
    "# 那第四个值end就传入 '\\n', 只要写for循环，递增的数值，从1开始除以四取余得0的值就传换行符\n",
    "# print('-', end='')\n",
    "# print('+', end='')\n",
    "\n",
    "def print_arg(arg, end=' '):\n",
    "    \"\"\"打印一个传来的值\n",
    "    \n",
    "    arg: 传来的值\n",
    "    end: 对print是否换行打印的设置\n",
    "    \"\"\"\n",
    "    print(arg, end=end)\n",
    "\n",
    "# print_arg('-', '\\n')\n",
    "# print_arg('-')\n",
    "\n",
    "for num in range(1, 17):\n",
    "    if num%4==0:\n",
    "        print_arg('-', '\\n')\n",
    "    else:\n",
    "        print_arg('-')\n"
   ]
  },
  {
   "cell_type": "code",
   "execution_count": null,
   "metadata": {},
   "outputs": [],
   "source": [
    "comment = \"\"\"\n",
    "在写完4x4网格的草稿后，我注意到很多函数都有相同的结构:它们会做一些事情，做另外的事情四次，然后做另外的事情一次。\n",
    "\n",
    "所以我写了one_four_one，它接受三个函数作为参数;它调用第一个函数一次，然后使用do_four调用第二个函数四次，\n",
    "然后调用第三个函数。\n",
    "\n",
    "然后我用one_four_one重写了print1beam、print1post、print4beams、print4posts、print_row和print_grid。\n",
    "\n",
    "编程是一个探索的过程。编写程序的草稿通常会让您深入了解问题，这可能会导致您重写代码以反映解决方案的结构。\n",
    "\n",
    "--- 艾伦\n",
    "\"\"\""
   ]
  }
 ],
 "metadata": {
  "kernelspec": {
   "display_name": "Python 3",
   "language": "python",
   "name": "python3"
  },
  "language_info": {
   "codemirror_mode": {
    "name": "ipython",
    "version": 3
   },
   "file_extension": ".py",
   "mimetype": "text/x-python",
   "name": "python",
   "nbconvert_exporter": "python",
   "pygments_lexer": "ipython3",
   "version": "3.9.6"
  }
 },
 "nbformat": 4,
 "nbformat_minor": 2
}
