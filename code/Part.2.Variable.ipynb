{
 "cells": [
  {
   "cell_type": "markdown",
   "metadata": {},
   "source": [
    "重复并不意味着折损价值\n",
    "\n",
    "**2.7 注释**\n",
    "\n",
    "说明编码的缘由，远胜于讲述代码的作用。\n",
    "\n",
    "良好的变量命名可以减少注释的使用，但是过长的变量名，又使得代码繁杂而难以阅读，所以如何取舍，需要权衡。\n",
    "\n",
    "习题集\n",
    "exercise 2.1 重申从上节便给出的建议，学习新知识，尽量在交互模式下不断试错，大胆假设，小心求证。"
   ]
  },
  {
   "cell_type": "code",
   "execution_count": null,
   "metadata": {},
   "outputs": [],
   "source": [
    "# exercise 2.1 重申从上节便给出的建议，学习新知识，尽量在交互模式下不断试错，大胆假设，小心求证。\n",
    "\n",
    "# 既然 n = 42正确，那么 42 = n呢？\n",
    "42 = n\n",
    "# 42 = n 报错了，异常显示 未定义n 属于语法错误"
   ]
  },
  {
   "cell_type": "code",
   "execution_count": null,
   "metadata": {},
   "outputs": [],
   "source": [
    "# x = y = 1 正确与否？\n",
    "x = y = 1\n",
    "print(\"x:\", x)\n",
    "print(\"y:\", y)\n",
    "# 正确，经过测试 x和y都是1，它们都被赋值成了1\n",
    "\n",
    "# 在一些编程语言中，每个语句都会以分号 ; 结尾，如果在python的语句末尾加上分号会怎样？\n",
    "x= 1;\n",
    "y=2;\n",
    "print(x)"
   ]
  }
 ],
 "metadata": {
  "kernelspec": {
   "display_name": "Python 3",
   "language": "python",
   "name": "python3"
  },
  "language_info": {
   "codemirror_mode": {
    "name": "ipython",
    "version": 3
   },
   "file_extension": ".py",
   "mimetype": "text/x-python",
   "name": "python",
   "nbconvert_exporter": "python",
   "pygments_lexer": "ipython3",
   "version": "3.9.6"
  }
 },
 "nbformat": 4,
 "nbformat_minor": 2
}
