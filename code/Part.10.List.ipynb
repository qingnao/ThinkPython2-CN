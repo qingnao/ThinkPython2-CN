{
 "cells": [
  {
   "cell_type": "markdown",
   "metadata": {},
   "source": [
    "# 第10章 列表"
   ]
  },
  {
   "cell_type": "markdown",
   "metadata": {},
   "source": [
    "**10.1 列表即序列**\n",
    "\n",
    "同字符串一样，列表也是值的序列。字符串中，值是字符；在列表中，值可以是任何类型。列表中的值，叫做元素，有时也叫列表项。\n",
    "\n",
    "列表中包含列表，叫做 嵌套列表。不包含任何元素的列表，叫做空列表；可以用[]创建空列表。"
   ]
  },
  {
   "cell_type": "markdown",
   "metadata": {},
   "source": [
    "**10.2 列表可变**\n",
    "\n",
    "从列表中获取元素的语法和从字符串中获取字符的语法一样--方括号操作符。括号中的表达式确定了索引值。依旧是从0开始。\n",
    "\n",
    "列表是可变的，可以通过括号操作符出现在赋值语句左侧，就会将对应的列表元素重新赋值。"
   ]
  },
  {
   "cell_type": "markdown",
   "metadata": {},
   "source": [
    "**10.3 遍历列表**\n",
    "\n",
    "遍历列表中元素的最常用方法便是 for 循环。语法和字符串遍历相同："
   ]
  },
  {
   "cell_type": "code",
   "execution_count": null,
   "metadata": {},
   "outputs": [],
   "source": [
    "cheeses = ['Cheddar', 'Edam', 'Gouda']\n",
    "for cheese in  cheeses:\n",
    "    print(cheese)"
   ]
  },
  {
   "cell_type": "code",
   "execution_count": 2,
   "metadata": {},
   "outputs": [
    {
     "name": "stdout",
     "output_type": "stream",
     "text": [
      "[84, 246]\n"
     ]
    }
   ],
   "source": [
    "# 这种方法对于仅读取列表中元素很方便，但是如果想要写入或者更新元素，就需要索引了。通常把内置函数range和len结合使用：\n",
    "numbers = [42, 123]\n",
    "for i in range(len(numbers)):\n",
    "    numbers[i] = numbers[i] * 2\n",
    "print(numbers)"
   ]
  },
  {
   "cell_type": "code",
   "execution_count": null,
   "metadata": {},
   "outputs": [],
   "source": [
    "# 用for循环遍历空列表，就永远不会执行循环体。\n",
    "# 虽然列表可以包含其他列表，但是嵌入的列表仍表示一个元素，下面列表的长度为4\n",
    "['spam', 1, ['Brie', 'Roquefort', 'Pol le Veq'], [1, 2, 3]]"
   ]
  },
  {
   "cell_type": "code",
   "execution_count": 6,
   "metadata": {},
   "outputs": [
    {
     "data": {
      "text/plain": [
       "[1, 2, 3, 1, 2, 3, 1, 2, 3]"
      ]
     },
     "execution_count": 6,
     "metadata": {},
     "output_type": "execute_result"
    }
   ],
   "source": [
    "# 10.4 列表操作\n",
    "# 运算符 + 可以用来拼接列表：\n",
    "a = [1, 2, 3]\n",
    "b = [4, 5, 6]\n",
    "c = a + b\n",
    "c\n",
    "\n",
    "# 运算符 * 会将列表复制给定的次数：\n",
    "[0] * 4\n",
    "[1, 2, 3] * 3\n",
    "# 第一个示例复制了 [0] 四次。第二个，则复制了 [1, 2, 3] 三次。"
   ]
  },
  {
   "cell_type": "code",
   "execution_count": 12,
   "metadata": {},
   "outputs": [
    {
     "data": {
      "text/plain": [
       "['a', 'x', 'y', 'd', 'e', 'f']"
      ]
     },
     "execution_count": 12,
     "metadata": {},
     "output_type": "execute_result"
    }
   ],
   "source": [
    "# 10.5 列表切片\n",
    "\n",
    "# 切片运算符同样适用于列表：\n",
    "t = ['a', 'b', 'c', 'd', 'e', 'f']\n",
    "t[1:3]\n",
    "t[:4]\n",
    "t[3:]\n",
    "# 如果省略第一位索引，则从头开始，进行切片。如果省略第二位索引，则切片止于末尾。如果两位都省略，则切片便等同于复制整个列表\n",
    "t[:]\n",
    "# 因为列表可变，所以最好在执行修改列表的操作前，复制一份，以防万一。\n",
    "# 如果切片运算符在赋值号左侧，便可以同时更新多个元素。\n",
    "t[1:3] = ['x', 'y']\n",
    "t"
   ]
  },
  {
   "cell_type": "code",
   "execution_count": 17,
   "metadata": {},
   "outputs": [
    {
     "data": {
      "text/plain": [
       "['a', 'b', 'c', 'd', 'e']"
      ]
     },
     "execution_count": 17,
     "metadata": {},
     "output_type": "execute_result"
    }
   ],
   "source": [
    "# 10.6 列表房啊\n",
    "\n",
    "# Python提供了大量操作列表的方法。例如，append 可以在列表末尾添加新元素。\n",
    "t = ['a', 'b', 'c']\n",
    "t.append('d')\n",
    "t\n",
    "\n",
    "# extend 会以列表为参数，并将其中所有元素添加到执行列表中：\n",
    "t1 = ['a', 'b', 'c']\n",
    "t2 = ['d', 'e']\n",
    "t1.extend(t2)\n",
    "t1\n",
    "# 这个例子中，t2没有被修改\n",
    "\n",
    "# sort 会将列表元素，从低到高排序\n",
    "t = ['d', 'c', 'e', 'b', 'a']\n",
    "t.sort()\n",
    "t\n",
    "# 多数列表方法都没有返回值；这些方法修改列表然后返回None。"
   ]
  },
  {
   "cell_type": "code",
   "execution_count": null,
   "metadata": {},
   "outputs": [],
   "source": [
    "# 10.7 Map,filter 和 reduce\n",
    "\n",
    "def add_all(t):\n",
    "    total = 0\n",
    "    for x in t:\n",
    "        total+=x\n",
    "    return total\n",
    "t = [1, 2, 3]\n",
    "sum(t)"
   ]
  },
  {
   "cell_type": "code",
   "execution_count": 20,
   "metadata": {},
   "outputs": [
    {
     "data": {
      "text/plain": [
       "['a', 'f']"
      ]
     },
     "execution_count": 20,
     "metadata": {},
     "output_type": "execute_result"
    }
   ],
   "source": [
    "# 10.8 移除元素\n",
    "\n",
    "# 从列表中移除元素有多种方法。如果你知道所要移除元素的索引，可以用pop方法，如果未提供索引，则会删除并返回最后一个元素。\n",
    "\n",
    "# 如果知道要删除元素的值（但不知道索引位置）,可以用remove方法。\n",
    "\n",
    "# 如果是要移除多个元素，可以用 del 配合切片索引实现：\n",
    "t = ['a', 'b', 'c', 'd', 'e', 'f']\n",
    "del t[1:5]\n",
    "t"
   ]
  },
  {
   "cell_type": "code",
   "execution_count": 27,
   "metadata": {},
   "outputs": [
    {
     "data": {
      "text/plain": [
       "['pinging for the fjord', '']"
      ]
     },
     "execution_count": 27,
     "metadata": {},
     "output_type": "execute_result"
    }
   ],
   "source": [
    "# 10.9 列表和字符串\n",
    "\n",
    "# 字符串和列表是不一样的，字符串是一系列的字符，列表是一系列的值。采用list方法，可以将字符串转换为字符列表\n",
    "s = 'spam'\n",
    "s = list(s)\n",
    "s\n",
    "\n",
    "# list 函数可以将字符串拆解为单独的字母。如果想将字符串拆分为一个个单词，split方法\n",
    "s = 'pinging for the fjords'\n",
    "t = s.split()\n",
    "t\n",
    "# 此处的可选参数是分隔符，也就是定义单词边界的字符。"
   ]
  },
  {
   "cell_type": "code",
   "execution_count": null,
   "metadata": {},
   "outputs": [],
   "source": [
    "# 10.12 列表参数\n",
    "# 如果使用append函数，修改的是原列表，且append函数的返回值是None\n",
    "# 如果使用+ 则是创建新的列表。原列表没有变化"
   ]
  },
  {
   "cell_type": "code",
   "execution_count": 33,
   "metadata": {},
   "outputs": [
    {
     "data": {
      "text/plain": [
       "21"
      ]
     },
     "execution_count": 33,
     "metadata": {},
     "output_type": "execute_result"
    }
   ],
   "source": [
    "# 10.15 习题集\n",
    "\n",
    "# 1. 编写 nested_sum函数，接收包含整数列表的一个列表，然后将所有内嵌列表的元素相加求和。\n",
    "def nested_sum(t):\n",
    "    total = 0\n",
    "    for x in t:\n",
    "        total+=sum(x)\n",
    "    return total\n",
    "t = [[1, 2], [3], [4, 5, 6]]\n",
    "total = nested_sum(t)\n",
    "total"
   ]
  },
  {
   "cell_type": "code",
   "execution_count": 38,
   "metadata": {},
   "outputs": [
    {
     "data": {
      "text/plain": [
       "[1, 3, 6]"
      ]
     },
     "execution_count": 38,
     "metadata": {},
     "output_type": "execute_result"
    }
   ],
   "source": [
    "# 2. 编写函数 cumsum， 使其接受一个数字列表，返回累加之和；也就是，第i个元素是圆列表中的第i+1个元素之前的元素之和。\n",
    "# def cumsum(t):\n",
    "#     # 这里取值就是这样[:i+1],因为第二个位置是闭合的，所以计算到i就终结了。\n",
    "#     t1 = []\n",
    "#     for i in range(len(t)):\n",
    "#         s = t[:i+1]\n",
    "#         t1.append(sum(s))\n",
    "#     return t1\n",
    "\n",
    "def cumsum(t):\n",
    "    total = 0\n",
    "    res = []\n",
    "    for x in t:\n",
    "        total +=x\n",
    "        res.append(total)\n",
    "        \n",
    "\n",
    "t = [1,2,3]\n",
    "cumsum(t)"
   ]
  },
  {
   "cell_type": "code",
   "execution_count": 40,
   "metadata": {},
   "outputs": [
    {
     "data": {
      "text/plain": [
       "[2, 3]"
      ]
     },
     "execution_count": 40,
     "metadata": {},
     "output_type": "execute_result"
    }
   ],
   "source": [
    "# 3. 编写middle函数，接收一个列表，返回包含前头入味后所有元素的新列表。\n",
    "def middle(t):\n",
    "    # -1 就代表了最后一个值。我去。\n",
    "    return t[1:-1]\n",
    "t=[1,2,3,4]\n",
    "middle(t)"
   ]
  },
  {
   "cell_type": "code",
   "execution_count": 48,
   "metadata": {},
   "outputs": [
    {
     "data": {
      "text/plain": [
       "[2, 3]"
      ]
     },
     "execution_count": 48,
     "metadata": {},
     "output_type": "execute_result"
    }
   ],
   "source": [
    "# 4. 编写函数chop，使其接收一个列表，然后移除首尾元素，返回 None\n",
    "def chop(t):\n",
    "    del t[0]\n",
    "    del t[-1]\n",
    "t=[1,2,3,4]\n",
    "chop(t)\n",
    "t"
   ]
  },
  {
   "cell_type": "code",
   "execution_count": 47,
   "metadata": {},
   "outputs": [
    {
     "data": {
      "text/plain": [
       "False"
      ]
     },
     "execution_count": 47,
     "metadata": {},
     "output_type": "execute_result"
    }
   ],
   "source": [
    "# 5. 编写is_sorted函数，接收一个列表，如果列表是升序排列，返回True，否则返回False\n",
    "# def is_sorted(t):\n",
    "#     t1 = t.sort()\n",
    "#     if t1 is t:\n",
    "#         return True\n",
    "#     else:\n",
    "#         return False\n",
    "\n",
    "# 内置函数 sorted，此函数可以返回新的排好序的列表，同时又保留了原始列表\n",
    "def is_sorted(t):\n",
    "    return t == sorted(t)\n",
    "    \n",
    "is_sorted([1, 2, 2])"
   ]
  },
  {
   "cell_type": "code",
   "execution_count": 49,
   "metadata": {},
   "outputs": [
    {
     "data": {
      "text/plain": [
       "True"
      ]
     },
     "execution_count": 49,
     "metadata": {},
     "output_type": "execute_result"
    }
   ],
   "source": [
    "# 6. 如果一个单词，通过重新排列字母，得到另一个单词，则成两个字为字母异位词。编写 is_anagram函数，接收两个字符串，\n",
    "# 如果两者为字母异位词，返回True。\n",
    "def is_anagram(word1, word2):\n",
    "    # 这里是将两个单词都转成list并且排好序。这样只要是异位词都能比较返回true\n",
    "    return sorted(word1) == sorted(word2)\n",
    "    \n",
    "is_anagram('apple', 'ppale')"
   ]
  },
  {
   "cell_type": "code",
   "execution_count": 54,
   "metadata": {},
   "outputs": [
    {
     "data": {
      "text/plain": [
       "True"
      ]
     },
     "execution_count": 54,
     "metadata": {},
     "output_type": "execute_result"
    }
   ],
   "source": [
    "# 7. 编写has_duplicates函数,使其接受一个列表，如果列表中存在重复元素，返回true。\n",
    "def has_duplicates(s):\n",
    "    # 如果列表中存在重复的元素，返回ture。就类似于叠词。aa bb\n",
    "    # 这里先将t转换成列表并排序，这样就根据单词排好序了，只要第一个等于第二个就是true\n",
    "    t = list(s)\n",
    "    t.sort()\n",
    "    \n",
    "    for i in range(len(t) -1):\n",
    "        if t[i] == t[i+1]:\n",
    "            return True\n",
    "    else:\n",
    "        return False\n",
    "has_duplicates('apple')\n",
    "\n"
   ]
  },
  {
   "cell_type": "code",
   "execution_count": 61,
   "metadata": {},
   "outputs": [
    {
     "data": {
      "text/plain": [
       "4"
      ]
     },
     "execution_count": 61,
     "metadata": {},
     "output_type": "execute_result"
    }
   ],
   "source": [
    "# 班上23名学生，两人的生日相同的概率是多少？\n",
    "import random\n",
    "\n",
    "def has_duplicates(t):\n",
    "    t.sort()\n",
    "    for i in range(len(t) -1):\n",
    "        if t[i] == t[i+1]:\n",
    "            return True\n",
    "    else:\n",
    "        return False\n",
    "\n",
    "def random_bdays(n):\n",
    "    t = []\n",
    "    # 每次从365天内取出一个数放到t，循环num_students次\n",
    "    for i in range(n):\n",
    "        count = random.randint(1, 365)\n",
    "        t.append(count)\n",
    "    return t\n",
    "        \n",
    "\n",
    "def count_matches(num_students, num_simulations):\n",
    "    \"\"\"\n",
    "    计算指定次数下，两人的生日相同的次数\n",
    "    \n",
    "    num_students: 学生人数\n",
    "    num_simulations: 模拟次数\n",
    "    \"\"\"\n",
    "    count = 0\n",
    "    for i in range(num_simulations):\n",
    "        t = random_bdays(num_students)\n",
    "        # 计算出随机生日列表，然后调用函数比较是否有相同\n",
    "        if has_duplicates(t):\n",
    "            count+=1\n",
    "    return count\n",
    "\n",
    "count_matches(23, 10)\n",
    "    \n",
    "    "
   ]
  },
  {
   "cell_type": "code",
   "execution_count": 62,
   "metadata": {},
   "outputs": [
    {
     "name": "stdout",
     "output_type": "stream",
     "text": [
      "113783\n",
      "['aa', 'aah', 'aahed', 'aahing', 'aahs', 'aal', 'aalii', 'aaliis', 'aals', 'aardvark']\n",
      "0.021200895309448242 seconds\n",
      "113783\n",
      "['aa', 'aah', 'aahed', 'aahing', 'aahs', 'aal', 'aalii', 'aaliis', 'aals', 'aardvark']\n",
      "15.463379859924316 seconds\n"
     ]
    }
   ],
   "source": [
    "from __future__ import print_function, division\n",
    "\n",
    "import time\n",
    "\n",
    "\n",
    "def make_word_list1():\n",
    "    \"\"\"Reads lines from a file and builds a list using append.\"\"\"\n",
    "    t = []\n",
    "    fin = open('./words.txt')\n",
    "    for line in fin:\n",
    "        word = line.strip()\n",
    "        t.append(word)\n",
    "    return t\n",
    "\n",
    "\n",
    "def make_word_list2():\n",
    "    \"\"\"Reads lines from a file and builds a list using list +.\"\"\"\n",
    "    t = []\n",
    "    fin = open('./words.txt')\n",
    "    for line in fin:\n",
    "        word = line.strip()\n",
    "        t = t + [word]\n",
    "    return t\n",
    "\n",
    "\n",
    "start_time = time.time()\n",
    "t = make_word_list1()\n",
    "elapsed_time = time.time() - start_time\n",
    "\n",
    "print(len(t))\n",
    "print(t[:10])\n",
    "print(elapsed_time, 'seconds')\n",
    "\n",
    "start_time = time.time()\n",
    "t = make_word_list2()\n",
    "elapsed_time = time.time() - start_time\n",
    "\n",
    "print(len(t))\n",
    "print(t[:10])\n",
    "print(elapsed_time, 'seconds')\n",
    "\n"
   ]
  }
 ],
 "metadata": {
  "kernelspec": {
   "display_name": "Python 3",
   "language": "python",
   "name": "python3"
  },
  "language_info": {
   "codemirror_mode": {
    "name": "ipython",
    "version": 3
   },
   "file_extension": ".py",
   "mimetype": "text/x-python",
   "name": "python",
   "nbconvert_exporter": "python",
   "pygments_lexer": "ipython3",
   "version": "3.9.6"
  }
 },
 "nbformat": 4,
 "nbformat_minor": 2
}
