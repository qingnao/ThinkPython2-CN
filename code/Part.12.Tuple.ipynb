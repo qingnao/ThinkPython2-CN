{
 "cells": [
  {
   "cell_type": "markdown",
   "metadata": {},
   "source": [
    "# 第12章 元组"
   ]
  },
  {
   "cell_type": "markdown",
   "metadata": {},
   "source": [
    "元组也是值的序列。其中值可以是任意类型，也是用整数作为索引，和列表很像。但两组最大的区别是元组不可变。\n",
    "\n",
    "元组是用一个逗号分隔的序列，虽然不是很必要，但一般都用括号把元组括起来。如果要创建单元素的元组，需要在末尾加上逗号。要注意，如果不是使用元组，在元素后加了逗号就变成元组了，导致类型错误。\n",
    "\n",
    "括号中只有一个值的，不是元组。t = ('a')，这只是字符串，添加了逗号可以。也可以使用内置函数tuple来创建，t = tuple()\n",
    "\n",
    "如果参数是一个序列（字符串，列表或者元组），结果便会得到一个由元素序列构成的元组。"
   ]
  },
  {
   "cell_type": "code",
   "execution_count": 1,
   "metadata": {},
   "outputs": [
    {
     "data": {
      "text/plain": [
       "('l', 'u', 'p', 'i', 'n', 's')"
      ]
     },
     "execution_count": 1,
     "metadata": {},
     "output_type": "execute_result"
    }
   ],
   "source": [
    "t = tuple('lupins')\n",
    "t\n",
    "# 因为 tuple 是一个内置函数名，所以要尽量避免用作变量名。"
   ]
  },
  {
   "cell_type": "code",
   "execution_count": 5,
   "metadata": {},
   "outputs": [
    {
     "data": {
      "text/plain": [
       "('A', 'b', 'c', 'd', 'e')"
      ]
     },
     "execution_count": 5,
     "metadata": {},
     "output_type": "execute_result"
    }
   ],
   "source": [
    "# 多数列表运算符同样适用于元组。所以用方括号也可以索引元组元素：\n",
    "t = ('a', 'b', 'c', 'd', 'e')\n",
    "t[0]\n",
    "# 切片运算符也可以选择元组中一段区间的元素。\n",
    "t[1:3]\n",
    "\n",
    "# 如果要修改元组中的某个元素，会报错。因为元组不可变，所以不能修改其中元素。但是可以用另一个元组替换当前元组。\n",
    "t = ('A',) + t[1:]\n",
    "t\n",
    "# 这个语句创建新元组，然后用 t 指向它。\n",
    "\n",
    "# 关系运算符也同样适用于元组以及其他序列；Python会从各自序列的首元素开始比较。\n",
    "# 如果想等，则比较下一个元素，以此类推，直到找出不同元素。而后续元素便不再比较。"
   ]
  },
  {
   "cell_type": "code",
   "execution_count": 8,
   "metadata": {},
   "outputs": [
    {
     "data": {
      "text/plain": [
       "'python.org'"
      ]
     },
     "execution_count": 8,
     "metadata": {},
     "output_type": "execute_result"
    }
   ],
   "source": [
    "# 2. 元组赋值\n",
    "\n",
    "# 交换变量的值经常会用到，比较传统的方法是用中间变量。temp = a; a = b; b = temp\n",
    "# 这种方法比较麻烦，用元组赋值会优雅很多。\n",
    "# a, b = b, a\n",
    "\n",
    "# 左侧是个变量元组，右侧是个表达式元组。每个值都会赋值给其对应的变量。\n",
    "# 同时，左侧变量的数量必须要和右侧值的数量一样。\n",
    "\n",
    "# 也有更普遍的用法，右侧可以用各种类型的序列。例如，将一个邮箱地址切分为用户名和域名。\n",
    "addr = 'monty@python.org'\n",
    "uname, domain = addr.split('@')\n",
    "uname\n",
    "domain"
   ]
  },
  {
   "cell_type": "code",
   "execution_count": 15,
   "metadata": {},
   "outputs": [
    {
     "data": {
      "text/plain": [
       "(1, 2)"
      ]
     },
     "execution_count": 15,
     "metadata": {},
     "output_type": "execute_result"
    }
   ],
   "source": [
    "# 3. 元组作为返回值\n",
    "\n",
    "# 函数只能返回一个值，但是如果这个值是一个元组，效果便等同于返回了多个值。\n",
    "\n",
    "t = divmod(7,3)\n",
    "t\n",
    "\n",
    "quot, rem = divmod(7,3)\n",
    "quot\n",
    "rem\n",
    "\n",
    "def min_max(t):\n",
    "    return min(t), max(t)\n",
    "min_max(t)\n",
    "# 原来这就是返回元组，我还以为是返回了多个数据，其实函数返回的也是一个值，只是它变成了元组，相当于返回多个值。"
   ]
  },
  {
   "cell_type": "code",
   "execution_count": 20,
   "metadata": {},
   "outputs": [
    {
     "name": "stdout",
     "output_type": "stream",
     "text": [
      "('a', 'b', 'c')\n"
     ]
    },
    {
     "data": {
      "text/plain": [
       "15"
      ]
     },
     "execution_count": 20,
     "metadata": {},
     "output_type": "execute_result"
    }
   ],
   "source": [
    "# 4. 变长参数即元组\n",
    "\n",
    "# 函数可以接收任意数量参数，以 * 开头的参数会聚合所有参数作为一个元组。\n",
    "# 比如，printall会接受任意数量的参数，并打印输出：\n",
    "def printall(*args):\n",
    "    print(args)\n",
    "printall('a', 'b', 'c')\n",
    "\n",
    "# 聚合的对立面是扩展，如果你有一个值的序列，想将其作为多个参数，传入函数，便可以使用 * 运算符。\n",
    "t = (7,3)\n",
    "# divmod(t)\n",
    "# 会报错，TypeError: divmod expected 2 arguments, got 1\n",
    "\n",
    "# 但如果你扩展了元组，那边运行正常。*t 将元组变成了多个参数输入进去。\n",
    "divmod(*t)\n",
    "\n",
    "# 很多内置函数都会用到变长参数元组，比如，max和min都可以接收任意数量的参数。\n",
    "# 现在自己能看懂一些源代码了吧，原来这就是进步，原来这就是研究。\n",
    "\n",
    "def sum_all(*agrs):\n",
    "    total = 0\n",
    "    for x in agrs:\n",
    "        total +=x\n",
    "    return total\n",
    "\n",
    "sum_all(1,2,3,4,5)"
   ]
  },
  {
   "cell_type": "code",
   "execution_count": 22,
   "metadata": {},
   "outputs": [
    {
     "name": "stdout",
     "output_type": "stream",
     "text": [
      "('a', 0)\n",
      "('b', 1)\n",
      "('c', 2)\n"
     ]
    },
    {
     "data": {
      "text/plain": [
       "[('a', 0), ('b', 1), ('c', 2)]"
      ]
     },
     "execution_count": 22,
     "metadata": {},
     "output_type": "execute_result"
    }
   ],
   "source": [
    "# 5. 列表和元组\n",
    "# zip 是个内置函数，其接收两个或者更多序列作为参数，并交错获取其中元素。\n",
    "\n",
    "s = 'abc'\n",
    "t = [0, 1, 2]\n",
    "# zip 对象是迭代数值对，常常用在for循环内：\n",
    "for pair in zip(s, t):\n",
    "    print(pair)\n",
    "    \n",
    "# zip对象是一种迭代器，也就是一种用来迭代序列的对象。迭代器和列表在某些方面比较相似。\n",
    "# 但与列表不同的是，你不能从迭代器中通过索引获取元素。\n",
    "\n",
    "# 如果你想使用列表的运算符和方法，可以用zip对象构建列表：\n",
    "list(zip(s,t))\n",
    "# [('a', 0), ('b', 1), ('c', 2)]\n",
    "# 列表中都是元组；这个例子中，每个元组都包括字符串中的一个字母，以及列表中的相应元素。\n"
   ]
  },
  {
   "cell_type": "code",
   "execution_count": 31,
   "metadata": {},
   "outputs": [
    {
     "name": "stdout",
     "output_type": "stream",
     "text": [
      "a 0\n",
      "b 1\n",
      "c 3\n"
     ]
    },
    {
     "data": {
      "text/plain": [
       "{'a': 0, 'b': 1, 'c': 2}"
      ]
     },
     "execution_count": 31,
     "metadata": {},
     "output_type": "execute_result"
    }
   ],
   "source": [
    "# 6. 字典和元组\n",
    "\n",
    "# 字典有个方法叫做 items， 其返回一个元组序列，每个元组都是一个键值对。\n",
    "d = {'a':0, 'b':1, 'c':3}\n",
    "t = d.items()\n",
    "t\n",
    "# 结果是个dict_items对象，是一个迭代键值对的迭代器。可以在for中使用。\n",
    "for key, value in d.items():\n",
    "    print(key, value)\n",
    "    \n",
    "# a 0\n",
    "# b 1\n",
    "# c 3\n",
    "\n",
    "# 如你所想，字典中的项没有特定顺序。\n",
    "# 相反，你也可以用一个元组列表，初始化一个新字典：\n",
    "t = [('a', 0), ('c', 2), ('b', 1)]\n",
    "d = dict(t)\n",
    "d\n",
    "# {'a': 0, 'c': 2, 'b': 1}\n",
    "\n",
    "# 将 dict 和 zip 结合使用，便产生了一种新建字典的简洁方法：\n",
    "d = dict(zip('abc', range(3)))\n",
    "d\n",
    "# {'a': 0, 'b': 1, 'c': 2}\n",
    "\n",
    "# 字典的 update 方法也可以接收一个元组列表，然后将其作为键值添加到已有字典中。\n"
   ]
  },
  {
   "cell_type": "markdown",
   "metadata": {},
   "source": [
    "**7. 序列中的序列**\n",
    "\n",
    "列表比元组更加常用，主要因为列表可变。但以下情况，用元组会更好：\n",
    "1. 在某些情形，比如 return 语句，语法上创建元组比创建列表更简便。\n",
    "2. 如果你想使用序列作为字典的键，你需要使用元组或者字符串这种不可变类型。（因为不可变，所以索引序列也绝不会变，可以作为key）\n",
    "3. 如果需要将一个序列作为参数传递给函数，使用元组可以有效降低使用别名带来的潜在问题。\n",
    "\n",
    "因为元组不可变，所以它们不提供 sort 和 reverse 这种修改现有列表的方法。但是 Python 提供内置函数 sorted，其接收任意序列，然后返回一个排序后的新列表，也提供了 recersed 函数，其接收一个序列，返回一个迭代器，此迭代器可以倒叙遍历列表。"
   ]
  },
  {
   "cell_type": "markdown",
   "metadata": {},
   "source": [
    "**12.9 术语表**\n",
    "\n",
    "- 元组赋值：一种序列居右，变量元组在左的赋值语句。等号右侧会先运算，然后这些结果会赋值给相应的左侧变量。\n",
    "- zip对象：调用内置函数 zip 返回的结果；是可遍历多个元组序列的对象。\n",
    "- 迭代器：可遍历序列的对象，但不适用列表运算符和方法\n",
    "- 数据结构：相关值的集合，通常由列表，字典，元组等组成。\n",
    "- 格式异常：值的格式不合适导致的错误，通常是类型或者大小。"
   ]
  },
  {
   "cell_type": "code",
   "execution_count": null,
   "metadata": {},
   "outputs": [],
   "source": [
    "# 12.10 习题集\n",
    "# 1. 编写函数 most_frequent, 接收一个字符串，然后按照字母频数倒序输出。\n",
    "# 从不同语言找一些文本素材，看看不同语言之间字母频数有何差异。\n",
    "\n",
    "def most_frequent(s):\n",
    "    \"\"\"\n",
    "    将 s 中的字母按照出现频率的相反顺序排序\n",
    "    \n",
    "    s: 字符串\n",
    "    Returns: list of letters\n",
    "    \"\"\"\n",
    "    hist = make_histogram(s)\n",
    "    \n",
    "    t = []\n",
    "    # 先定义一个列表，将制作好的字母到频率的映射一一取出，制作成元组放到列表里\n",
    "    # hist.items() 才能将字典迭代，取出元组的key和value\n",
    "    for x, freq in hist.items():\n",
    "        # append()里只是一个参数，所以再加一层括号，让数据作为元组传入\n",
    "        # 这里得到的是字母和出现的次数。\n",
    "        t.append((x, freq))\n",
    "    \n",
    "    t.sort(reverse=True) # 将列表进行重新排列，倒序排列组合\n",
    "    \n",
    "    res = []\n",
    "    for freq, x in t:\n",
    "        res.append(x)\n",
    "    return res\n",
    "    \n",
    "    \n",
    "    \n",
    "def make_histogram(s):\n",
    "    \"\"\"\n",
    "    从字母到它们在字符串 s 中出现的次数做一张地图。\n",
    "    \n",
    "    s: 字符串\n",
    "    Returns: 字母到频率的映射\n",
    "    \"\"\"\n",
    "    hist = {}\n",
    "    for x in s:\n",
    "        # 这里是通过get直接赋值，如果存在就递增1，如果不存在就默认取值是1\n",
    "        hist[x] = hist.get(x, 0) + 1\n",
    "    return hist\n",
    "        \n",
    "\n",
    "def read_file(filename):\n",
    "    \"\"\"以字符串形式返回文件里的内容\"\"\"\n",
    "    return open(filename).read()\n",
    "\n",
    "string = read_file('emma.txt')\n",
    "letter_seq = most_frequent(string)\n",
    "for x in letter_seq:\n",
    "    print(x)\n"
   ]
  },
  {
   "cell_type": "markdown",
   "metadata": {},
   "source": [
    "文涛：有些知识，你不知道就是不知道。你能说这些技术没用吗？在你真的学它之前，它好像真的没用，因为你没用它照样活的好好的。可当你学会这些之后，就变得不一样的，你的技术更上一层楼，填补了更细的知识，你的知识面更广了。它不是用来应付面试的八股文，而是真的能切实提升你编程能力和速度的技能。"
   ]
  }
 ],
 "metadata": {
  "kernelspec": {
   "display_name": "Python 3",
   "language": "python",
   "name": "python3"
  },
  "language_info": {
   "codemirror_mode": {
    "name": "ipython",
    "version": 3
   },
   "file_extension": ".py",
   "mimetype": "text/x-python",
   "name": "python",
   "nbconvert_exporter": "python",
   "pygments_lexer": "ipython3",
   "version": "3.9.6"
  }
 },
 "nbformat": 4,
 "nbformat_minor": 2
}
