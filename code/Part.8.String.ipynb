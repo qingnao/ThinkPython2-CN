{
 "cells": [
  {
   "cell_type": "markdown",
   "metadata": {},
   "source": [
    "# 字符串"
   ]
  },
  {
   "cell_type": "code",
   "execution_count": 3,
   "metadata": {},
   "outputs": [
    {
     "name": "stdout",
     "output_type": "stream",
     "text": [
      "a\n",
      "b\n",
      "6\n",
      "a\n",
      "b\n",
      "a\n",
      "n\n",
      "a\n",
      "b\n",
      "a\n"
     ]
    }
   ],
   "source": [
    "fruit = 'banaba'\n",
    "letter = fruit[1]\n",
    "print(letter)\n",
    "\n",
    "letter = fruit[0]\n",
    "print(letter)\n",
    "\n",
    "length = len(fruit)\n",
    "print(length)\n",
    "\n",
    "last = fruit[length-1]\n",
    "print(last)\n",
    "\n",
    "index = 0\n",
    "while index < len(fruit):\n",
    "    letter = fruit[index]\n",
    "    print(letter)\n",
    "    index+=1"
   ]
  },
  {
   "cell_type": "code",
   "execution_count": 12,
   "metadata": {},
   "outputs": [
    {
     "name": "stdout",
     "output_type": "stream",
     "text": [
      "e\n",
      "l\n",
      "p\n",
      "p\n",
      "a\n"
     ]
    }
   ],
   "source": [
    "# 做个练习，写个函数，以字符串为入参，倒序输出每个字符，每行一个。\n",
    "def inverted_order_str(str):\n",
    "    index = len(str)-1\n",
    "    while index >= 0:\n",
    "        print(str[index])\n",
    "        index-=1\n",
    "\n",
    "inverted_order_str('apple')"
   ]
  },
  {
   "cell_type": "code",
   "execution_count": 15,
   "metadata": {},
   "outputs": [
    {
     "name": "stdout",
     "output_type": "stream",
     "text": [
      "Jack\n",
      "Kack\n",
      "Lack\n",
      "Mack\n",
      "Nack\n",
      "Ouack\n",
      "Pack\n",
      "Quack\n"
     ]
    }
   ],
   "source": [
    "# 下面的例子，展示了如何用拼接以及 for 循环，来构建一个字母序列。\n",
    "prefixes = 'JKLMNOPQ'\n",
    "suffix = 'ack'\n",
    "\n",
    "for letter in prefixes:\n",
    "    if letter in ('OQ'):\n",
    "        print(letter + 'u' + suffix)\n",
    "    else:\n",
    "        print(letter + suffix)"
   ]
  },
  {
   "cell_type": "code",
   "execution_count": 38,
   "metadata": {},
   "outputs": [
    {
     "name": "stdout",
     "output_type": "stream",
     "text": [
      ":\n",
      "0\n",
      "banana\n",
      "[[1, 2, 3], [4, 5, 6], [7, 8, 9], [10]]\n"
     ]
    }
   ],
   "source": [
    "# 8.4 字符串切片\n",
    "\n",
    "s = 'Monty Python'\n",
    "s[0:5]\n",
    "s[6:12]\n",
    "\n",
    "# 操作符[n:m]，会返回字符串从第n个位置到第m个位置到字符串，包括开头位置的字符，但不包括最后位置的字符。\n",
    "# 如果缺失第一个索引（冒号前），则切片从字符串头部开始，如果忽略第二个索引，切片到末尾结束。\n",
    "fruit = 'banana'\n",
    "fruit[:3]\n",
    "fruit[3:]\n",
    "\n",
    "# 若第一个索引值大于或等于第二个，则结果为空字符串，用两个单引号表示。\n",
    "fruit[3:3] # '' 因为第一个索引是开始，第二个只是指向，但并不包含它，所以处在一个空区间。\n",
    "# 空字符串一般不包括任何字符，同时长度为0，除此之外，和其他字符串一样。\n",
    "print(':'+fruit[3:3])\n",
    "print(len(fruit[3:3]))\n",
    "print(fruit[:]) \n",
    "# fruit[:] 经过测试将会展示全部字符串\n",
    "\n",
    "# 总结：这一段字符串切片是我昨天遇到过的，当时是通过AI帮我生成的，为了解决一个问题。想要将一个列表分割，\n",
    "# 每次分成200条的记录。它就给出了我字符串切片的方法，不过区分的是列表而已。它还是用了for循环。我想在这里还原一下\n",
    "\n",
    "array_list = [1,2,3,4,5,6,7,8,9,10]\n",
    "step = 3\n",
    "new_array_list = [array_list[i:i+step] for i in range(0, len(array_list), step)]\n",
    "print(new_array_list)\n",
    "\n",
    "# 这个方法是将列表分成切片，也用到了for循环的知识点，比如对列表进行拆分，一次多少条，那就是步长。\n",
    "# 无论是字符换切片还是 for循环的都需要步长。\n",
    "# for i in range(0, len(array_list), step) 这里计算出一共要分成多少段，每次的步长就是一段多少个\n",
    "# array_list[i:i+step] 这里就是将取出的值放到列表里，每次取其中的一段。从i这个位置开始，到i加步长结束。\n",
    "# 得到的结果是 [[1, 2, 3], [4, 5, 6], [7, 8, 9], [10]] 可以通过for循环分开处理"
   ]
  },
  {
   "cell_type": "code",
   "execution_count": 47,
   "metadata": {},
   "outputs": [],
   "source": [
    "# 8.5 字符串不可变\n",
    "\n",
    "# greeting n 问候，招呼；贺词，祝福\n",
    "greeting = 'Hello, world!'\n",
    "# greeting[0] = 'J'\n",
    "# TypeError: 'str' object does not support item assignment\n",
    "\n",
    "# 字符串是不可变的， 你无法改变一个既有的字符串。你能做的，是基于原来的字符串做些操作，创建一个新的字符串。\n",
    "# 这点Python和Java是一样的，字符串不可变，是线程安全的。\n",
    "\n",
    "new_greeting = 'Java' + greeting[5:]\n",
    "# Jello, world!\n",
    "# 上面是用新的首字母和greeting的切片进行了拼接，而这并不会改变原来的字符串。"
   ]
  },
  {
   "cell_type": "code",
   "execution_count": 54,
   "metadata": {},
   "outputs": [
    {
     "data": {
      "text/plain": [
       "4"
      ]
     },
     "execution_count": 54,
     "metadata": {},
     "output_type": "execute_result"
    }
   ],
   "source": [
    "# 8.6 检索\n",
    "\n",
    "def find(word, letter):\n",
    "    index = 0\n",
    "    while index < len(word):\n",
    "        if word[index] == letter:\n",
    "            return index\n",
    "        index +=1\n",
    "    return -1\n",
    "find('hello', 'h')\n",
    "\n",
    "# 可以认为，find是 [] 操作符的逆运算。次操作不同于根据索引获取对应字符，而是根据字符，查找其索引。如果字符没有找到，返回-1\n",
    "# 在循环内部使用return，如果word[index]==letter，函数会跳出循环，并立即返回结果。否则直至循环结束，返回-1。\n",
    "\n",
    "# 这种算法--遍历序列并在找到预期结果时返回--叫做检索。\n",
    "\n",
    "\n",
    "def find(word, letter, index):\n",
    "    # index = 0\n",
    "    while index < len(word):\n",
    "        if word[index] == letter:\n",
    "            return index\n",
    "        index +=1\n",
    "    return -1\n",
    "find('hello', 'o', 3)\n"
   ]
  },
  {
   "cell_type": "code",
   "execution_count": 64,
   "metadata": {},
   "outputs": [
    {
     "name": "stdout",
     "output_type": "stream",
     "text": [
      "3\n"
     ]
    },
    {
     "data": {
      "text/plain": [
       "2"
      ]
     },
     "execution_count": 64,
     "metadata": {},
     "output_type": "execute_result"
    }
   ],
   "source": [
    "# 8.7 循环和计数\n",
    "\n",
    "word = 'banana'\n",
    "count = 0\n",
    "for letter in word:\n",
    "    if letter == 'a':\n",
    "        count = count + 1\n",
    "print(count)\n",
    "\n",
    "# 此程序描述了另一种算法，称之为计数器。初始化count为0，每找到一次，就加1。\n",
    "\n",
    "# 封装以上代码为 count 函数，使其以字符串和要计数的字母为参数，从而更加通用。\n",
    "def count(word, keyword):\n",
    "    count = 0\n",
    "    for letter in word:\n",
    "        if letter == keyword:\n",
    "            count = count + 1\n",
    "    return count\n",
    "\n",
    "count(word, 'a')\n",
    "\n",
    "def count(word, keyword, index):\n",
    "    count = 0\n",
    "    while index < len(word):\n",
    "        if word[index] == keyword:\n",
    "            count+=1  \n",
    "        index +=1\n",
    "    return count\n",
    "count('Python, Java', 'a', 4)"
   ]
  },
  {
   "cell_type": "code",
   "execution_count": 75,
   "metadata": {},
   "outputs": [
    {
     "data": {
      "text/plain": [
       "-1"
      ]
     },
     "execution_count": 75,
     "metadata": {},
     "output_type": "execute_result"
    }
   ],
   "source": [
    "# 8.8 字符串方法\n",
    "\n",
    "# 字符串提供了诸多有用的方法，方法类似于函数--接受参数并返回结果--但是语法有些不同\n",
    "\n",
    "word = 'banana'\n",
    "new_word = word.upper()\n",
    "new_word\n",
    "# 这种点标法，声明了方法的名字，upper，和要使用此方法的字符串名字，word括号为空，不接受任何参数。\n",
    "# 方法调用，通常叫做调用；此例中，我们会说正在对 word调用 upper方法\n",
    "\n",
    "index = word.find('a')\n",
    "index\n",
    "index = word.find('na')\n",
    "index\n",
    "\n",
    "# 默认情况，find从字符串开头开始查找，不过它也可以接受第二个参数作为索引，使其从既定位置开始。\n",
    "index = word.find('na', 3)\n",
    "index\n",
    "# 这是一个可选参数的例子；find方法也可以接收第三个索引参数，以标识结束位置：\n",
    "name = 'bob'\n",
    "index =name.find('b', 1, 2)\n",
    "index"
   ]
  },
  {
   "cell_type": "code",
   "execution_count": 80,
   "metadata": {},
   "outputs": [
    {
     "name": "stdout",
     "output_type": "stream",
     "text": [
      "a\n",
      "e\n",
      "s\n"
     ]
    }
   ],
   "source": [
    "# 8.9 操作符 in\n",
    "\n",
    "# 单词 in是一个布尔运算符，其比较两个字符串，如果前者是后者的一部分，则返回True:\n",
    "'a' in 'banana'\n",
    "'seed' in 'banana'\n",
    "\n",
    "# 下面的函数会输出同时出现在 word1和 word2中的字母：\n",
    "def in_both(word1, word2):\n",
    "    for letter in word1:\n",
    "        if letter in word2:\n",
    "            print(letter)\n",
    "\n",
    "in_both('apples', 'oranges')\n",
    "\n",
    "# 变量名选择足够好的话，Python读起来便如同英语。读一下这个循环。\n",
    "# for (each) letter in (the first) word, if (the) letter (appears) in (the second) word, print (the) letter."
   ]
  }
 ],
 "metadata": {
  "kernelspec": {
   "display_name": "Python 3",
   "language": "python",
   "name": "python3"
  },
  "language_info": {
   "codemirror_mode": {
    "name": "ipython",
    "version": 3
   },
   "file_extension": ".py",
   "mimetype": "text/x-python",
   "name": "python",
   "nbconvert_exporter": "python",
   "pygments_lexer": "ipython3",
   "version": "3.9.6"
  }
 },
 "nbformat": 4,
 "nbformat_minor": 2
}
