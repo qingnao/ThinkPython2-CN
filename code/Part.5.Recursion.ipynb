{
 "cells": [
  {
   "cell_type": "markdown",
   "metadata": {},
   "source": [
    "# 条件与递归"
   ]
  },
  {
   "cell_type": "markdown",
   "metadata": {},
   "source": [
    "本章的重点是 if 语句，它会基于程序的不同状态，执行不同的代码。"
   ]
  },
  {
   "cell_type": "markdown",
   "metadata": {},
   "source": [
    "**5.1 向下取整和求模**"
   ]
  },
  {
   "cell_type": "code",
   "execution_count": 7,
   "metadata": {},
   "outputs": [
    {
     "name": "stdout",
     "output_type": "stream",
     "text": [
      "1\n",
      "45\n",
      "45\n"
     ]
    }
   ],
   "source": [
    "# 向下取整运算符，即 //，它会将两数相除，结果向下取整。常规除法返回的是浮点数。\n",
    "minutes = 105\n",
    "minutes / 60\n",
    "\n",
    "hours = minutes // 60\n",
    "print(hours)\n",
    "\n",
    "remainder = minutes - hours * 60\n",
    "print(remainder)\n",
    "\n",
    "# 还可以使用求模运算符， %，它会将两数相除，返回余数\n",
    "remainder = minutes % 60\n",
    "print(remainder)\n",
    "\n",
    "# 求模运算的用途不止于此，例如检查一个数字是否可以被另一个整除--如果 x % y 结果为0，则x可以被y整除。\n",
    "# 此外，你也可以通过求模从数字中提取最右边的一个或多个数字，例如 x % 10 可以得到x最右边一位数字，% 100 可以得到两位"
   ]
  },
  {
   "cell_type": "markdown",
   "metadata": {},
   "source": [
    "**5.2 布尔表达式**\n",
    "\n",
    "布尔表达式是用来表示结果为真或为假的表达式。\n",
    "\n"
   ]
  },
  {
   "cell_type": "markdown",
   "metadata": {},
   "source": [
    "\n",
    "**5.3 逻辑运算符**\n",
    "\n",
    "Python对任何非0点数都当作 True\n",
    "42 and True\n",
    "True\n",
    "这种灵活性固然有用，但是一些细微差异，会令人困惑。尽量不要如此使用（除非你知道你在做什么）。"
   ]
  },
  {
   "cell_type": "markdown",
   "metadata": {},
   "source": [
    "**5.4 条件执行**\n",
    "\n",
    "若想写出实用性强的程序，就必然需要程序可以根据条件，进行选择处理。条件语句变为我们提供了这种能力。最简单的便是if语句。\n",
    "\n",
    "if后面的布尔表达式，叫做条件。如果为真，则执行锁进的语句，如果为假，则不执行。\n",
    "\n",
    "if语句和函数定义的结构一样：头部和紧随其后的缩进体。这样语句称为复合语句。\n",
    "\n",
    "缩进体对语句行数没有限制，但至少要有一行。有时还没想清楚要写什么，就可以用pass占位符占位，等后续回来再写。因为有些代码比较复杂，所以先将伪代码写出来，添加一行注释，比如 # TODO：需要处理负数！\n",
    "\n",
    "文涛：当初在学编程时，老师说将来这种if判断的业务代码会有很多，能占据代码的70%。当时老师的话还是太朴素，显然只能描述的让我们认识到表面。这里就能很清楚的知道if判断就是条件执行，让我们的功能变得更智能，实用性更强。\n",
    "\n",
    "\n",
    "**5.7 嵌套条件**\n",
    "\n",
    "虽然语句缩进可以使代码结构清晰，但是嵌套条件的语句阅读起来却很麻烦。所以，最好还是尽量不用。"
   ]
  },
  {
   "cell_type": "code",
   "execution_count": 14,
   "metadata": {},
   "outputs": [
    {
     "name": "stdout",
     "output_type": "stream",
     "text": [
      "x is a positive single-digit number.\n",
      "x is a positive single-digit number.\n"
     ]
    }
   ],
   "source": [
    "# 5.5 选择执行\n",
    "\n",
    "# if 语句的第二种使用场景，是“选择执行”，一般存在两种情况，需要根据条件判断。语法如下：\n",
    "x= 10 \n",
    "if x % 2 ==0:\n",
    "    print('x is even.')\n",
    "else:\n",
    "    print('x is odd.')\n",
    "    \n",
    "# 这种条件非真即假，所以只有一种情况会运行。这些选择，被称为分支，因为它们属于执行流程上的分支。\n",
    "\n",
    "\n",
    "\n",
    "# 5.7 嵌套条件\n",
    "\n",
    "# 虽然语句缩进可以使代码结构清晰，但是嵌套条件的语句阅读起来却很麻烦。所以，最好还是尽量不用。\n",
    "# 逻辑运算符可以有效简化嵌套条件语句，例如，可以用一行条件语句来重写下面的代码：\n",
    "\n",
    "# 5.8 链式条件\n",
    "\n",
    "# 有时候，会遇到多种可能性，便需要更多的分支，一种方式是采用链式条件进行处理。\n",
    "# 条件都是顺序检验，如果一个为假，则检验下一个，以此类推。如果条件为真，则执行相应分支，语句结束。\n",
    "# 即使存在多个条件为真，那也只会执行第一个为真的分支。\n",
    "\n",
    "\n",
    "if 0 < x:\n",
    "    if x < 10:\n",
    "        print('x is a positive single-digit number.')\n",
    "\n",
    "# 只有两个条件都满足，print语句才会运行，因此我们可以使用 and 运算符，得到同样的效果：\n",
    "\n",
    "if 0 < x < 10:\n",
    "    print('x is a positive single-digit number.')\n",
    "    "
   ]
  },
  {
   "cell_type": "code",
   "execution_count": null,
   "metadata": {},
   "outputs": [],
   "source": [
    "# 5.8 递归\n",
    "\n",
    "# 既然一个函数可以调用另一个函数，那么，函数也就可以调用自身。虽然这可能不是一件好事，但这却是程序最神奇的功能之一了。\n",
    "\n",
    "def countdown(n):\n",
    "    if n < 0:\n",
    "        print('Blastoff!')\n",
    "    else:\n",
    "        print(n)\n",
    "        countdown(n-1)\n",
    "# 如果 n为0或负数，输出单词“Blastoff！”。否则，输出n，然后调用函数自身 countdown 并以 n-1 为实参。\n",
    "# 函数内部调用了自身，这种函数便是可递归的；其执行过程叫做递归。\n",
    "\n",
    "countdown(3)\n",
    "\n",
    "def print_n(s, n):\n",
    "    if n <= 0:\n",
    "        return\n",
    "    print(s)\n",
    "    print_n(s, n-1)\n",
    "\n",
    "print_n(5, 5)\n",
    "\n",
    "# 这种简单样例，用for循环可能更加方便。但后续会遇到一些例子，用 for循环比较难编写，而用递归却可以轻而易举。\n",
    "# 所以，现在不啻为一个好的开始。"
   ]
  },
  {
   "cell_type": "markdown",
   "metadata": {},
   "source": [
    "**5.10 无穷递归**\n",
    "\n",
    "如果递归一直无法触及边界条件，则会一直调用，永不终止。这边叫做无穷递归（我们也叫死循环），出现这种情况，往往表示情况不妙。\n",
    "\n",
    "多数编程环境中，无穷递归的程序不会一直运行，当到达了最大递归深度，python便会报错。\n",
    "\n",
    "如若不幸遇到无穷递归，最好重新审视一下函数，确保存在不再进行递归调用的边界条件。如果已有边界条件，请检查是否可以保证其被触达。"
   ]
  },
  {
   "cell_type": "code",
   "execution_count": 20,
   "metadata": {},
   "outputs": [
    {
     "name": "stdout",
     "output_type": "stream",
     "text": [
      "Arthur, king of the Britons!\n"
     ]
    }
   ],
   "source": [
    "# 5.11 键盘输入\n",
    "\n",
    "# Python 提供了内置函数 input，可以暂停程序运行，等待用户键入信息。\n",
    "# 当用户敲击 Return或 Enter键时，程序恢复运行，同时input 将用户输入作为字符串返回。\n",
    "\n",
    "# text = input()\n",
    "# print(text)\n",
    "\n",
    "# 在接收用户输入时，最好给用户以提示，使其知晓要输入的内容。\n",
    "name = input('What...is your name?\\n')\n",
    "print(name)\n",
    "# Arthur, king of the Britons!"
   ]
  },
  {
   "cell_type": "markdown",
   "metadata": {},
   "source": [
    "**5.12 调试**\n",
    "\n",
    "当遇到语法异常或者运行时异常，其报错信息详细而充分，但会令人无所适从。\n",
    "\n",
    "通常，错误信息只标识错误发生的位置，但是问题代码可能在此位置之前，甚至是前行代码。\n",
    "\n",
    "对错误信息要仔细阅读，但也不能完全偏信。"
   ]
  }
 ],
 "metadata": {
  "kernelspec": {
   "display_name": "Python 3",
   "language": "python",
   "name": "python3"
  },
  "language_info": {
   "codemirror_mode": {
    "name": "ipython",
    "version": 3
   },
   "file_extension": ".py",
   "mimetype": "text/x-python",
   "name": "python",
   "nbconvert_exporter": "python",
   "pygments_lexer": "ipython3",
   "version": "3.9.6"
  }
 },
 "nbformat": 4,
 "nbformat_minor": 2
}
