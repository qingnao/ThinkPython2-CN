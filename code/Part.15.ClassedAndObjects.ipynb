{
 "cells": [
  {
   "cell_type": "markdown",
   "metadata": {},
   "source": [
    "# 第15章 类和对象\n",
    "\n"
   ]
  },
  {
   "cell_type": "code",
   "execution_count": 5,
   "metadata": {},
   "outputs": [
    {
     "name": "stdout",
     "output_type": "stream",
     "text": [
      "(3, 4)\n"
     ]
    }
   ],
   "source": [
    "# 15.1 自定义类型\n",
    "class Point:\n",
    "    \"\"\"Represents a point in 2-D space.\"\"\"\n",
    "\n",
    "# 代码头表示这个新类叫做 Point。代码体是一个文档字符串，用来描述类的用途。\n",
    "\n",
    "blank = Point()\n",
    "blank\n",
    "# 返回值是一个Point对象的引用，同时赋值给了 blank。\n",
    "# 创建一个新的对象，叫做实例化，而这个对象便是类的一个实例。\n",
    "\n",
    "# 15.2 属性\n",
    "blank.x = 3.0\n",
    "blank.y = 4.0\n",
    "\n",
    "# 可以用点标法对实例进行赋值，这种语法类似于从模块中选取变量。\n",
    "# 我们是使用点标法对对象中特定元素进行赋值。这些元素叫做属性。\n",
    "\n",
    "# 变量 blank 指向了一个包含两个属性的 Point 对象，每个属性指向了一个浮点数\n",
    "blank.y\n",
    "blank.x\n",
    "'(%g, %g)' % (blank.x, blank.y)\n",
    "\n",
    "# 将实例作为参数使用：\n",
    "def print_point(p):\n",
    "    print('(%g, %g)' % (p.x, p.y))\n",
    "\n",
    "print_point(blank)"
   ]
  },
  {
   "cell_type": "code",
   "execution_count": 7,
   "metadata": {},
   "outputs": [
    {
     "name": "stdout",
     "output_type": "stream",
     "text": [
      "The distance between the two points is: 4.0\n"
     ]
    }
   ],
   "source": [
    "import math\n",
    "# 写个distance_between_points 函数，使其接收两个 Point对象作为参数，返回两者之间的距离\n",
    "def distance_between_points(point1, point2):\n",
    "    # 使用欧几里得距离公式计算两点之间的距离\n",
    "    distance = math.sqrt((point2.x - point2.x) ** 2 + (point2.y - point1.y) ** 2)\n",
    "    return distance\n",
    "\n",
    "class Point:\n",
    "    \"\"\"Represents a point in 2-D space.\"\"\"\n",
    "\n",
    "blank = Point()\n",
    "blank.x = 3.0\n",
    "blank.y = 4.0\n",
    "\n",
    "white = Point()\n",
    "white.x = 5.0\n",
    "white.y = 8.0\n",
    "\n",
    "# 计算并输出两点之间的距离\n",
    "result= distance_between_points(blank, white)\n",
    "print(f'The distance between the two points is: {result}')\n"
   ]
  },
  {
   "cell_type": "code",
   "execution_count": 25,
   "metadata": {},
   "outputs": [
    {
     "name": "stdout",
     "output_type": "stream",
     "text": [
      "(50, 100)\n",
      "(0.0, 0.0)\n"
     ]
    },
    {
     "data": {
      "text/plain": [
       "(30.0, 60.0)"
      ]
     },
     "execution_count": 25,
     "metadata": {},
     "output_type": "execute_result"
    }
   ],
   "source": [
    "class Point:\n",
    "    \"\"\"Represents a point in 2-D space.\"\"\"\n",
    "\n",
    "class Rectangle:\n",
    "    \"\"\"Represents a rectangle.\n",
    "\n",
    "    attributes:width, height, corner.\n",
    "    \"\"\"\n",
    "\n",
    "def find_center(rect):\n",
    "    p = Point()\n",
    "    p.x = rect.corner.x + rect.width/2\n",
    "    p.y = rect.corner.y + rect.height/2\n",
    "    return p\n",
    "\n",
    "def print_point(p):\n",
    "    print('(%g, %g)' % (p.x, p.y))\n",
    "\n",
    "# 要表示一个矩形，首先要初始化一个Rectangle对象，并给属性赋值：\n",
    "box = Rectangle()\n",
    "box.width = 100.0\n",
    "box.height = 200.0\n",
    "box.corner = Point()\n",
    "box.corner.x = 0.0\n",
    "box.corner.y = 0.0\n",
    "\n",
    "center = find_center(box)\n",
    "print_point(center)\n",
    "\n",
    "# 15.5 对象可变\n",
    "# 通过对属性赋值，可以改变对象的状态。比如，若要只改变矩形大小而不改变其位置，可以只修改width 和 height的值：\n",
    "box.width = box.width + 50\n",
    "box.height = box.height + 100\n",
    "\n",
    "# 也可以通过函数，修改对象。例如，grow_rectangle 函数会接受一个矩形对象和两个数值，然后分类累加到矩形的宽和高上。\n",
    "def grow_rectangle(rect, dwidth, dheight):\n",
    "    rect.width += dwidth\n",
    "    rect.height += dheight\n",
    "\n",
    "box.width, box.height\n",
    "grow_rectangle(box, 50, 100)\n",
    "box.width, box.height\n",
    "# 在函数内部，rect是 box 的别名，所以当函数修改了 rect 的属性，box也会发生变化。\n",
    "\n",
    "# 编写move_rectangle函数，使其接收一个矩形对象以及 dx 和dy两个值。同时对corner的 x坐标加 dx，\n",
    "# 对 corner 对 y坐标加上 dy，从而改变矩形的位置。\n",
    "\n",
    "def move_rectangle(rect, dx, dy):\n",
    "    rect.corner.x = rect.corner.x + dx\n",
    "    rect.corner.y = rect.corner.y + dy\n",
    "\n",
    "print((box.corner.x, box.corner.y))\n",
    "move_rectangle(box, 30, 60)\n",
    "box.corner.x, box.corner.y"
   ]
  },
  {
   "cell_type": "markdown",
   "metadata": {},
   "source": [
    "**15.6 复制**\n",
    "\n",
    "别名的使用会让程序变得复杂，因为一处改动可能会影响到其他地方。同时，追踪指向某个既定对象的所有变量，又很困难。所以，常常用复制对象来代替别名使用。copy模块包含一个 copy函数，可以复制任意对象"
   ]
  },
  {
   "cell_type": "code",
   "execution_count": 40,
   "metadata": {},
   "outputs": [
    {
     "name": "stdout",
     "output_type": "stream",
     "text": [
      "(3, 4)\n",
      "(3, 4)\n",
      "(30.0, 60.0)\n",
      "(60.0, 110.0)\n"
     ]
    }
   ],
   "source": [
    "import copy\n",
    "\n",
    "p1 = Point()\n",
    "p1.x = 3.0\n",
    "p1.y = 4.0\n",
    "\n",
    "p2 = copy.copy(p1)\n",
    "print_point(p1)\n",
    "print_point(p2)\n",
    "\n",
    "p1 is p2\n",
    "p1 == p2\n",
    "\n",
    "# is 运算符表明p1和p2不是同一个对象，这符合我们的预期。 == 运算符的默认操作和 is运算符是一样的，都是检验对象是否相同\n",
    "# 而不是判断值是否相等。对象地址指向不同。\n",
    "\n",
    "box2 = copy.copy(box)\n",
    "box2 is box\n",
    "box2.corner is box.corner\n",
    "\n",
    "# 上面的拷贝操作叫浅拷贝，仅仅复制对象和内部引用，但不会复制内嵌对象（对象里的对象）。\n",
    "# 在这个例子中，对其中一个执行修改变量值的操作，都不会影响另一个。但如果调用 move_rectangle 函数，\n",
    "# 因为修改了内嵌对象的值，所以两者都会被影响。这种操作令人迷惑，更容易使人犯错。\n",
    "\n",
    "# copy模块提供了 deepcopy方法，不仅复制对象，还能复制对象内部引用的对象，叫做深拷贝。\n",
    "box3 = copy.deepcopy(box)\n",
    "box3 is box\n",
    "box3.corner is box.corner\n",
    "# box3 和 box 是完全隔离的对象了。\n",
    "\n",
    "def move_rectangle(rect, dx, dy):\n",
    "    box = copy.deepcopy(rect)\n",
    "    box.corner.x = box.corner.x + dx\n",
    "    box.corner.y = box.corner.y + dy\n",
    "    return box\n",
    "\n",
    "box4 = move_rectangle(box, 30, 50)\n",
    "print((box.corner.x, box.corner.y))\n",
    "print((box4.corner.x, box4.corner.y))\n"
   ]
  },
  {
   "cell_type": "code",
   "execution_count": 49,
   "metadata": {},
   "outputs": [],
   "source": [
    "# 15.7 调试\n",
    "\n",
    "# 当你开始使用对象时，极有可能遇到新的异常。如果试图读取一个不存在的属性，会遇到属性异常 AttributeError：\n",
    "p = Point()\n",
    "p.x = 3\n",
    "p.y = 4\n",
    "# p.z\n",
    "# ttributeError: 'Point' object has no attribute 'z'\n",
    "\n",
    "# 如果不确定对象类型，可以如下这般查看\n",
    "type(p)\n",
    "# __main__.Point\n",
    "\n",
    "# 也可以使用 isinstance 来判断对象是否是某个类的实例\n",
    "isinstance(p, Point)\n",
    "\n",
    "# 如果你不确定对象是否存在某个属性，可以用内置函数 hasattr，进行判断\n",
    "hasattr(p, 'x')\n",
    "hasattr(p, 'z')\n",
    "\n",
    "# 也可以使用 try语句，来判断对象是否具有你所要的属性：\n",
    "try:\n",
    "    x = p.x\n",
    "except:\n",
    "    x = 0"
   ]
  },
  {
   "cell_type": "code",
   "execution_count": 50,
   "metadata": {},
   "outputs": [],
   "source": [
    "class Circle:\n",
    "    \"\"\"center是一个point对象，redius是一个数字\"\"\"\n",
    "\n",
    "\n",
    "\n",
    "\n",
    "circle = Circle()\n",
    "circle.redius = 75\n",
    "p = Point()\n",
    "p.x = 150\n",
    "p.y = 100\n",
    "    \n",
    "\n"
   ]
  },
  {
   "cell_type": "markdown",
   "metadata": {},
   "source": []
  }
 ],
 "metadata": {
  "kernelspec": {
   "display_name": "Python 3",
   "language": "python",
   "name": "python3"
  },
  "language_info": {
   "codemirror_mode": {
    "name": "ipython",
    "version": 3
   },
   "file_extension": ".py",
   "mimetype": "text/x-python",
   "name": "python",
   "nbconvert_exporter": "python",
   "pygments_lexer": "ipython3",
   "version": "3.9.6"
  }
 },
 "nbformat": 4,
 "nbformat_minor": 2
}
