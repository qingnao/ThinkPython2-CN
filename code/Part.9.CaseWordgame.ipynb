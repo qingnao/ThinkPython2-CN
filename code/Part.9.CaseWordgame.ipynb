{
 "cells": [
  {
   "cell_type": "markdown",
   "metadata": {},
   "source": [
    "# 案例学习：单词游戏"
   ]
  },
  {
   "cell_type": "code",
   "execution_count": null,
   "metadata": {},
   "outputs": [],
   "source": [
    "# 此文件为纯文本文件，可以用Python读取。内置函数open，以文件名入参，返回一个文件对象，你可以用来读取文件内容。\n",
    "fin = open('words.txt')\n",
    "\n",
    "# fin 适用于输入的文件对象的通用名称。文件对象提供了多个读取方法，包括 readline\n",
    "# 此方法会读取文件的一整行字符，并作为字符串返回：\n",
    "fin.readline()\n",
    "# 单词列表中的第一个单词是“aa”，这是一种演讲，后面的\\n是换行符，用来断行。\n",
    "\n",
    "# 文件对象会跟踪它在文件的位置（也就是读到了哪里），从而，如果在此运行 readline，会得到后面的单词：\n",
    "fin.readline()\n",
    "\n",
    "# 如果换行符令你厌烦，可以用字符串方法 strip 移除：\n",
    "line = fin.readline()\n",
    "word = line.strip()\n",
    "word\n",
    "\n",
    "# 想到自己写了那么多读文件的代码，却完全不知道怎么读，这就是依赖AI工具和自动生成让自己变蠢了。\n",
    "# 现在开始要多进行练习，并且经常复习它。\n",
    "\n",
    "# 你也可以将文件对象置于for循环中，这种程序会读取 words.txt，然后逐行输出每个单词：\n",
    "for line in fin:\n",
    "    word = line.strip()\n",
    "    print(word)"
   ]
  },
  {
   "cell_type": "code",
   "execution_count": 15,
   "metadata": {},
   "outputs": [
    {
     "name": "stdout",
     "output_type": "stream",
     "text": [
      "counterdemonstrations\n",
      "hyperaggressivenesses\n",
      "microminiaturizations\n"
     ]
    }
   ],
   "source": [
    "# 9.2 练习 \n",
    "# 下一节有这些习题的答案，但在看答案之前最好尽力一试，\n",
    "\n",
    "# Exercise 9.1. 编写程序, 读取 words.txt, 仅打印多于 20 个字符的单词 (不包括空格).\n",
    "fin = open('words.txt')\n",
    "for line in fin:\n",
    "    word = line.strip()\n",
    "    if len(word) > 20:\n",
    "        print(word)"
   ]
  },
  {
   "cell_type": "code",
   "execution_count": 16,
   "metadata": {},
   "outputs": [
    {
     "name": "stdout",
     "output_type": "stream",
     "text": [
      "单词总数是：113783\n",
      "不包含 'e' 的单词数：76162\n",
      "不包含 'e' 的单词所占比例是：0.6693618554617122\n"
     ]
    }
   ],
   "source": [
    "# Exercise 9.2. Ernest Vincent Wright 在 1939 年出版了一部 50,000 单词的小说, 名叫 Gadsby,\n",
    "# 本书不包括字母 “e”. 而英文中最常用的便是 “e”, 所以这是很难做到的.\n",
    "# 事实上, 若不使用常用的字符, 一般很难表达出一个观点. 不过, 开始虽然进展缓慢, \n",
    "# 但是, 通过保持谨慎并训练几个小时, 你便可以慢慢适应.\n",
    "# 好了, 闲言少叙.\n",
    "# 编写 has_no_e 函数, 如果输入的单词不包括 “e”, 则返回 True.\n",
    "# 编写程序, 读取 words.txt, 只打印不包含 “e’’ 的单词. 统计列表中, 不包含 “e’’ 的单词所占比例.\n",
    "\n",
    "def has_no_e(word):\n",
    "    return 'e' in word\n",
    "\n",
    "word_total = 0\n",
    "has_no_e_count = 0\n",
    "fin = open('words.txt')\n",
    "for line in fin:\n",
    "    word = line.strip()\n",
    "    is_has_e = has_no_e(word)\n",
    "    word_total+=1\n",
    "    if is_has_e:\n",
    "        has_no_e_count +=1\n",
    "proportion = has_no_e_count / word_total\n",
    "print(f'单词总数是：{word_total}')\n",
    "print(f\"不包含 'e' 的单词数：{has_no_e_count}\")\n",
    "print(f\"不包含 'e' 的单词所占比例是：{proportion}\")\n",
    "    \n"
   ]
  },
  {
   "cell_type": "code",
   "execution_count": 29,
   "metadata": {},
   "outputs": [
    {
     "data": {
      "text/plain": [
       "113783"
      ]
     },
     "execution_count": 29,
     "metadata": {},
     "output_type": "execute_result"
    }
   ],
   "source": [
    "# Exercise 9.3. 编写 avoids 函数, 以单词和一个包含禁用字母的字符串为输入, 当单词不包含任何禁用字母时, 返回 True.\n",
    "# 编写程序, 提示用户输入一个包含禁用字母的字符串, 然后输出不含有任何禁用字母的单词数量.\n",
    "# 看看你是否可以找出一个包含 5 个禁用字母的组合, 使得被排除的单词数最少?\n",
    "\n",
    "from string import ascii_lowercase, ascii_uppercase\n",
    "\n",
    "def avoids(word, forbidden):\n",
    "    return not forbidden in word\n",
    "\n",
    "def find_avoids_count(forbidden):\n",
    "    has_no_avoids_count = 0\n",
    "\n",
    "    fin = open('words.txt')\n",
    "    for line in fin:\n",
    "        word = line.strip()\n",
    "        is_avoids = avoids(word, forbidden)\n",
    "        if is_avoids:\n",
    "            has_no_avoids_count+=1\n",
    "    return has_no_avoids_count\n",
    "\n",
    "# forbidden_letter = input(\"请输入一个禁用的字母\\n\")\n",
    "# print(forbidden_letter)\n",
    "# has_no_avoids_count = find_avoids_count(forbidden_letter)\n",
    "# print(f'不含有任何禁用字母的单词数量：{has_no_avoids_count}')\n",
    "\n",
    "# 能否找到一个包含 5 个禁用字母的组合，使得被排除的单词数量最少。\n",
    "combined_letters = ascii_lowercase + ascii_uppercase\n",
    "#  52个英文字母，可以组成多少个5个字母的组合？\n",
    "avoids_letters = 'asfsf'\n",
    "has_no_avoids_count = find_avoids_count(avoids_letters)\n",
    "has_no_avoids_count\n",
    "\n",
    "\n"
   ]
  },
  {
   "cell_type": "code",
   "execution_count": 30,
   "metadata": {},
   "outputs": [
    {
     "data": {
      "text/plain": [
       "True"
      ]
     },
     "execution_count": 30,
     "metadata": {},
     "output_type": "execute_result"
    }
   ],
   "source": [
    "# Exercise 9.4. 编写uses_only 函数, 以一个单词和一串字母字符串为输入, 如果单词的字母都在这串字母字符串中, \n",
    "# 则返回 True. 你是否可以只用 acefhlo 这些字母, 构造出句子? 换成 “Hoe alfalfa’’ 这些字母呢?\n",
    "\n",
    "# 不再是遍历 word中的字母，而是遍历必须字母列表。如果字母列表中有字母未出现在单词中，返回false\n",
    "def uses_only(word, available):\n",
    "    for letter in word:\n",
    "        if letter not in available:\n",
    "            return False\n",
    "    return True\n",
    "\n",
    "word = 'ace'\n",
    "uses_only(word, 'acefhlo')\n",
    "\n"
   ]
  },
  {
   "cell_type": "code",
   "execution_count": 32,
   "metadata": {},
   "outputs": [
    {
     "name": "stdout",
     "output_type": "stream",
     "text": [
      "单词同时包含 aeiou 的数量：113676\n",
      "单词同时包含 aeiouy 的数量：113769\n"
     ]
    }
   ],
   "source": [
    "\n",
    "# Exercise 9.5. 编写uses_all 函数, 接受一个单词和一串必需字母作为输入, 如果单词对这些必需字母, 都至少使用了一次, \n",
    "# 则返回 True. 看看有多少单词同时包含 aeiou? 又有多少同时包含 aeiouy 呢?\n",
    "\n",
    "def uses_only(word, available):\n",
    "    for letter in word:\n",
    "        if letter not in available:\n",
    "            return False\n",
    "    return True\n",
    "\n",
    "# 如若你已像计算机科学家一样去思考，你便会注意到 uses_all 是以前一个已解决的问题的另一种表达，你便会这么写:\n",
    "def uses_all(word, required):\n",
    "    return uses_only(required, word)\n",
    "\n",
    "# 此案例便是一个抽离纷扰，回归已知的程序开发模式的实践，这种模式是将遇到的问题，映射为已解决的问题，\n",
    "# 从而用已有的解决方案来解决当前问题。\n",
    "\n",
    "\n",
    "def find_word(uses_all_word):\n",
    "    container_count = 0\n",
    "    fin = open('words.txt')\n",
    "    for letter in fin:\n",
    "        word = letter.strip()\n",
    "        is_uses_all = uses_all(word, uses_all_word)\n",
    "        if is_uses_all:\n",
    "            container_count+=1\n",
    "    return container_count\n",
    "\n",
    "container_count = find_word('aeiou')\n",
    "print(f'单词同时包含 aeiou 的数量：{container_count}')\n",
    "\n",
    "container_count = find_word('aeiouy')\n",
    "print(f'单词同时包含 aeiouy 的数量：{container_count}')\n",
    "\n"
   ]
  },
  {
   "cell_type": "code",
   "execution_count": null,
   "metadata": {},
   "outputs": [],
   "source": [
    "# Exercise 9.6. 编写is_abecedarian 函数, 如果单词中的字母是按照字母表顺序排列, 则返回\n",
    "# True(字母相同, 视为顺序). 看看有多少这种单词?\n",
    "\n",
    "def is_abecedarian(word):\n",
    "    if len(word) <= 1:\n",
    "        return True\n",
    "    if word[0] > word[1]:\n",
    "        return False\n",
    "    return is_abecedarian(word[1:])"
   ]
  },
  {
   "cell_type": "markdown",
   "metadata": {},
   "source": [
    "**9.5 调试**\n",
    "\n",
    "程序测试是很难的。本章的函数相对容易测试，因为你可以用手算来检验结果。即便如此，想要选择一组可以测试所有可能错误的单词，也是困难重重。\n",
    "\n",
    "通常，程序测试可以帮助你发现错误，但要生成好的测试用例，往往很难，即使通过了这些测试，你也不能百分百地确认你的程序正确。一位传奇的计算机科学家说过：\n",
    "\n",
    "**程序测试只能表明错误的存在，却永远无法保证其不存在！**"
   ]
  },
  {
   "cell_type": "markdown",
   "metadata": {},
   "source": [
    "**9.6 术语表**\n",
    "\n",
    "**抽离纷扰，回归已知**：这种模式是将遇到的问题，映射为已解决的问题，从而用已有的解决方案来解决当前问题。"
   ]
  }
 ],
 "metadata": {
  "kernelspec": {
   "display_name": "Python 3",
   "language": "python",
   "name": "python3"
  },
  "language_info": {
   "codemirror_mode": {
    "name": "ipython",
    "version": 3
   },
   "file_extension": ".py",
   "mimetype": "text/x-python",
   "name": "python",
   "nbconvert_exporter": "python",
   "pygments_lexer": "ipython3",
   "version": "3.9.6"
  }
 },
 "nbformat": 4,
 "nbformat_minor": 2
}
