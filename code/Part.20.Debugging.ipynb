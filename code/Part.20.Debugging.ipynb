{
 "cells": [
  {
   "cell_type": "markdown",
   "metadata": {},
   "source": [
    "# 第A章 调试\n"
   ]
  },
  {
   "cell_type": "markdown",
   "metadata": {},
   "source": [
    "对于修改过的文件，要重启编译器或者使用reload重载模块。如果只是用import加载模块，那不起作用。\n",
    "\n",
    "在当初写抽奖系统的时候用到过，使用配置文件控制抽奖概率和票数，就是使用了reload重载模块，而不是选择了重启服务。"
   ]
  },
  {
   "cell_type": "markdown",
   "metadata": {},
   "source": [
    "原文照抄书里的句子不会让我学会它，但用自己的话复述一遍学到的内容，虽然会丢失部分含义，但已有的那部分已经被我掌握了。只需要重复阅读，再次总结和记忆就能掌握。所以可以耐下心来再检查一次，填补丢失的数据。"
   ]
  }
 ],
 "metadata": {
  "language_info": {
   "name": "python"
  }
 },
 "nbformat": 4,
 "nbformat_minor": 2
}
