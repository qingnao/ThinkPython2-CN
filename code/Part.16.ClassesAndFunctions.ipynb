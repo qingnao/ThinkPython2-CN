{
 "cells": [
  {
   "cell_type": "markdown",
   "metadata": {},
   "source": [
    "# 第16章 类和函数\n"
   ]
  },
  {
   "cell_type": "code",
   "execution_count": 17,
   "metadata": {},
   "outputs": [
    {
     "name": "stdout",
     "output_type": "stream",
     "text": [
      "11:59:30\n"
     ]
    },
    {
     "data": {
      "text/plain": [
       "False"
      ]
     },
     "execution_count": 17,
     "metadata": {},
     "output_type": "execute_result"
    }
   ],
   "source": [
    "class Time:\n",
    "    \"\"\"Represents the time of day.\n",
    "    \n",
    "    attributes: hour, minute, second\n",
    "    \"\"\"\n",
    "\n",
    "def print_time(t):\n",
    "    \"\"\"Prints a string representation of the time.\n",
    "    \n",
    "    t: Time object\n",
    "    \"\"\"\n",
    "    print('%.2d:%.2d:%.2d' %(t.hour, t.minute, t.second))\n",
    "\n",
    "def is_after(t1, t2):\n",
    "    \"\"\"比较两个时间点大小, 如果t1 晚于 t2, 则返回 True  t1比t2大,返回true\n",
    "    \n",
    "    挑战:不要用if语句。\n",
    "    t1:第一个时间对象\n",
    "    t2:第二个时间对象\n",
    "    \"\"\"\n",
    "    # Python中，元组是逐个元素进行比较的，从第一个元素开始。如果第一个元素相同，则继续比较第二个元素，依此类推。\n",
    "    return (t1.hour, t1.minute, t1.second) > (t2.hour, t2.minute, t2.second)\n",
    "\n",
    "\n",
    "time = Time()\n",
    "time.hour = 11\n",
    "time.minute = 59\n",
    "time.second = 30\n",
    "\n",
    "time2 = Time()\n",
    "time2.hour = 11\n",
    "time2.minute = 59\n",
    "time2.second = 31\n",
    "\n",
    "print_time(time)\n",
    "result = is_after(time, time2)\n",
    "result"
   ]
  },
  {
   "cell_type": "code",
   "execution_count": 23,
   "metadata": {},
   "outputs": [
    {
     "name": "stdout",
     "output_type": "stream",
     "text": [
      "11:20:00\n"
     ]
    }
   ],
   "source": [
    "# 16.2 纯函数\n",
    "\n",
    "# 下面章节中，我们将编写两个函数，实现时间计算。这两个函数展示了两种函数类型：纯函数以及修改器。\n",
    "# 同时，也展示了一个我称之为 原型和补丁的开发范式，这是一种通过构建简单原型，逐步改进，从而解决复杂问题的方法。\n",
    "\n",
    "# 以下为add_time的一个简单原型：\n",
    "def add_time(t1, t2):\n",
    "    sum = Time()\n",
    "    sum.hour = t1.hour + t2.hour\n",
    "    sum.minute = t1.minute + t2.minute\n",
    "    sum.second = t1.second + t2.second\n",
    "    return sum\n",
    "\n",
    "# 该函数新建了一个 Time对象，并初始化其属性，同时返回对象的引用。这便称之为纯函数，因为它不会修改作为参数传入\n",
    "# 的人和对象，同时也不会产生其他效果，比如显示值或提示用户输入，而仅仅是返回一个值。\n",
    "\n",
    "# 问题在于，函数没有处理秒数或分钟数相加后超过60的情况。遇到这种情况，我们需要将每60秒进位到分钟，每60分钟进位到小时\n",
    "\n",
    "# 优化后的版本：\n",
    "def add_time(t1, t2):\n",
    "    sum = Time()\n",
    "    sum.hour = t1.hour + t2.hour\n",
    "    sum.minute = t1.minute + t2.minute\n",
    "    sum.second = t1.second + t2.second\n",
    "\n",
    "    if sum.second >= 60:\n",
    "        sum.second -= 60\n",
    "        sum.minute += 1\n",
    "    \n",
    "    if sum.minute >= 60:\n",
    "        sum.minute -= 60\n",
    "        sum.hour += 1\n",
    "    return sum\n",
    "# 这个函数虽然正确，但是略显臃肿。稍后我们将看到一个简短版本。\n",
    "\n",
    "start = Time()\n",
    "start.hour = 9\n",
    "start.minute = 45\n",
    "start.second = 0\n",
    "duration = Time()\n",
    "duration.hour = 1\n",
    "duration.minute = 35\n",
    "duration.second = 0\n",
    "done = add_time(start, duration)\n",
    "print_time(done)   \n",
    "\n"
   ]
  },
  {
   "cell_type": "code",
   "execution_count": 43,
   "metadata": {},
   "outputs": [
    {
     "name": "stdout",
     "output_type": "stream",
     "text": [
      "14:05:20\n",
      "15:28:40\n"
     ]
    }
   ],
   "source": [
    "# 16.3 修改器\n",
    "\n",
    "# 有时，对于一个函数来说，直接修改其获取的参数对象，更为高效。在此情境中，更改对于调用者来说，是可见的。\n",
    "# 这样的函数，被称之为修改器。\n",
    "\n",
    "import copy\n",
    "\n",
    "def increment(time, seconds):\n",
    "    \"\"\"\n",
    "    创建并返回新的 Time对象，将seconds加入time时间里，考虑seconds远大于60的情况。\n",
    "    time:时间对象\n",
    "    seconds: 要增加的描述\n",
    "    \"\"\"\n",
    "    time.second += seconds\n",
    "\n",
    "    minutes = time.second // 60\n",
    "    time.second = time.second % 60\n",
    "\n",
    "    time.minute += minutes\n",
    "    hour = time.minute // 60\n",
    "    time.minute = time.minute % 60\n",
    "\n",
    "    time.hour += hour\n",
    "\n",
    "def increment(time, seconds):\n",
    "    \"\"\"\n",
    "    编写一个纯函数 increment,使其创建并返回新的Time对象，而不是修改其参数\n",
    "    \"\"\"\n",
    "    time = copy.copy(time)\n",
    "    time.second += seconds\n",
    "\n",
    "    minutes = time.second // 60\n",
    "    time.second = time.second % 60\n",
    "\n",
    "    time.minute += minutes\n",
    "    hour = time.minute // 60\n",
    "    time.minute = time.minute % 60\n",
    "\n",
    "    time.hour += hour\n",
    "    return time\n",
    "\n",
    "\n",
    "print_time(time) \n",
    "new_time = increment(time, 5000)\n",
    "print_time(new_time)  "
   ]
  },
  {
   "cell_type": "markdown",
   "metadata": {},
   "source": [
    "**16.4 原型与规划**\n",
    "\n",
    "刚刚展示的开发方案是“原型和补丁“。就是针对每个函数，编写一个可以完成基本运算的函数，然后对其测试，并逐步修正错误。\n",
    "\n",
    "这种方法很有效，尤其是你尚未对问题有深入了解时。但是增量修正往往会产生大量过于复杂代码---因为需要眼珠特殊情况---和不可靠代码---因为你很难确定是否找到了所有异常。\n",
    "\n",
    "另一种方法是采用设计开发，用这种方法，就是采用上帝视角处理问题，从而开发会容易很多。\n",
    "\n",
    "second属性是“个位”，minute属性是“60位”，hour属性是“3600”位。"
   ]
  },
  {
   "cell_type": "code",
   "execution_count": null,
   "metadata": {},
   "outputs": [],
   "source": [
    "# 这里给出另一种解决问题的方法---我们将Time对象转换为整数，然后利用计算机善于进行整数运算的优势。\n",
    "\n",
    "def time_to_int(time):\n",
    "    \"\"\"将Time对象转为整数\"\"\"\n",
    "    minutes = time.hour * 60 + time.minute\n",
    "    seconds = minutes * 60 + time.seconds\n",
    "    return seconds\n",
    "\n",
    "def int_to_time(seconds):\n",
    "    \"\"\"将整数转换为Time\n",
    "    divmod, 将第一个参数除以第二个参数，将商和余作为元组返回。\n",
    "    \"\"\"\n",
    "    time = Time()\n",
    "    # 这里得到一个元组，两个值，整除的数和余数\n",
    "    minutes, time.seconds = divmod(seconds, 60)\n",
    "    time.hour, time.mintue = divmod(minutes, 60)\n",
    "    return time\n",
    "\n",
    "# 你可能需要费点脑力，并运行一些测试，以说服自己这些函数是正确的。\n",
    "# 一旦你确信他们正确，便可以用起重写add_time:\n",
    "\n",
    "def add_time(t1, t2):\n",
    "    seconds = time_to_int(t1) + time_to_int(t2)\n",
    "    return int_to_time(seconds)\n",
    "\n",
    "# 这个版本相比原来的版本，更容易验证。试一下，用time_to_int和 int_to_time 来重写increment\n",
    "def increment(time, seconds):\n",
    "    seconds = time_to_int(time) + seconds\n",
    "    return int_to_time(seconds)"
   ]
  },
  {
   "cell_type": "markdown",
   "metadata": {},
   "source": [
    "如果我们注意到时间不过是60进制的数字，并预先编写转换函数（time_to_int 和 int_to_time），便可以得到一个更精简，易读，易调试，也更可靠的程序。\n",
    "\n",
    "同时这也更利于后续添加新的功能。比如，假如要对两个 Time 对象相减，获取其时间间隔。直接的方法，便是通过借位实现。但是，使用转换函数，会更容易，也更可能正确。\n",
    "\n",
    "讽刺的是，有时候将问题想得复杂（或更通用），反而会更容易解决（因为特殊情况会更少，出错概率也会更低）。"
   ]
  },
  {
   "cell_type": "markdown",
   "metadata": {},
   "source": [
    "**16.5 调试**\n",
    "\n",
    "如果 minute 和second 在 0 到 60 之间（包括0但不包括60），同时 hour是正数，那这个Time对象便是正确的。hour和minute应该是整数，但 second可以允许有小数部分。  \n",
    "\n",
    "这种约束条件，叫做不变式，因为它们需要恒为真。换句话说，如果它们不是真，那肯定有某些地方出错了。\n",
    "\n",
    "编写代码来检查不变式，可以帮助发现错误并找出原因。比如，你可能有个函数 valid_time，它会接收一个 Time 对象，如果违反了不变式的某个条件，返回 False；"
   ]
  },
  {
   "cell_type": "code",
   "execution_count": null,
   "metadata": {},
   "outputs": [],
   "source": [
    "def valid_time(time):\n",
    "    if time.hour < 0 or time.minute < 0 or time.second < 0:\n",
    "        return False\n",
    "    if time.minute >=60 or time.second >= 60:\n",
    "        return False\n",
    "    return True\n",
    "\n",
    "# 在每个函数的开始部分，你都可以检查参数并确保它们合法：\n",
    "def add_time(t1, t2):\n",
    "    if not valid_time(t1) or not valid_time(t2):\n",
    "        raise ValueError('invalid Time object in add_time')\n",
    "    seconds = time_to_int(t1) + time_to_int(t2)\n",
    "    return int_to_time(seconds)\n",
    "\n",
    "# 或者你也可以用 assert 语句，检查一个给定的不变式，如果失败，抛出异常\n",
    "def add_time(t1, t2):\n",
    "    assert valid_time(t1) and valid_time(t2)\n",
    "    seconds = time_to_int(t1) + time_to_int(t2)\n",
    "    return int_to_time(seconds)\n",
    "\n",
    "# assert 语句非常有用，因为它们区分了何为常规条件代码，何为检验错误的代码。"
   ]
  },
  {
   "cell_type": "markdown",
   "metadata": {},
   "source": [
    "文涛：在此之前从没考虑过 assert 的用法，即使见到了也是唯恐避之不及，没有钻研一下它的用法。assert 断言，就是用来检验错误的，也能使代码变得更简洁和易懂。很好地区分了常规条件代码和检验错误的代码。"
   ]
  },
  {
   "cell_type": "markdown",
   "metadata": {},
   "source": [
    "### 16.6 术语表\n",
    "\n",
    "原型和补丁：一种通过先写程序初稿，然后测试，并修正发现的错误的开发方案。（现在自己最喜欢这种开发方案，不断修正发现的错误，并且感觉到对编程了解的更深入，也更熟练）\n",
    "\n",
    "设计开发：一种开发方案，采用上帝视角处理问题，相比于增量开发或者原型开发，需要更多提前规划。（这就是我之前采用开发方式吗？总想多考虑一些问题，但因为经验不足，所以做的反而不够好。应该先从原型开发方案开始，逐步修正，这样的工作做得多了，就能更好的使用设计开发方案了）  \n",
    "\n",
    "纯函数：一种不修改任何作为参数传入的对象的函数。多数纯函数有返回值。   \n",
    "\n",
    "修改器：一种函数，会修改作为参数接收的一个或者多个对象。多数修改器都是没有返回值的；也就是说，它们返回None。（这个以前我用过很多次，就是传入两个对象，将第二个对象的值赋值给第一个，又或者做些处理计算。一开始还担心如果没有返回值会怎么样，会不会修改失败，使用的是旧数据。现在想，当时没分清楚纯函数和修改器的用法。只是将方法抽取了出来，其实也相当于在代码块中执行并修改了数据。）\n",
    "\n",
    "函数式编程风格：一种程序设计风格，其中多数函数都是纯函数。\n",
    "\n",
    "不变式：程序执行期间，应该始终为真的条件。（这个我经常用，判断一个参数是否正常。只是现在终于知道了它的术语名称，叫做不变式）\n",
    "\n",
    "断言语句：检查条件是否满足，并在失败时抛出异常的语句。"
   ]
  },
  {
   "cell_type": "markdown",
   "metadata": {},
   "source": [
    "### 16.7 习题集\n",
    "\n",
    "**Exercise 16.1** 编写mul_time函数，接收一个Time对象以及一个数字，返回一个原始时间和数字的乘积的新时间对象。\n",
    "\n",
    "然后用mul_time来编写一个函数，接收一个表示比赛结束时间的Time对象，以及一个表示距离的数字，返回一个表示平均配速（每英里耗时）的Time对象。"
   ]
  },
  {
   "cell_type": "code",
   "execution_count": 54,
   "metadata": {},
   "outputs": [
    {
     "name": "stdout",
     "output_type": "stream",
     "text": [
      "(0.0, 6.0, 31.564885496183194)\n"
     ]
    }
   ],
   "source": [
    "\n",
    "\n",
    "def time_to_int(time):\n",
    "    \"\"\"\n",
    "    时间是60进制的,将所有时间转换成秒数.\n",
    "\n",
    "    time:时间对象\n",
    "    returns:返回转换后的秒数\n",
    "    \"\"\"\n",
    "    minutes = time.hour * 60 + time.minute\n",
    "    seconds = minutes * 60 + time.second\n",
    "    return seconds\n",
    "\n",
    "def int_to_time(seconds):\n",
    "    \"\"\"\n",
    "    通过60进制, 将描述转换为时间对象. 写一个纯函数,创建一个新对象返回，\n",
    "\n",
    "    seconds:全部的秒数\n",
    "    returns: 由秒数创建好的时间对象.\n",
    "    \"\"\"\n",
    "    time = Time()\n",
    "    # 让我们再复习一遍，divmod会返回一个元组，整除的数和余数\n",
    "    minutes, time.second = divmod(seconds, 60)\n",
    "    time.hour, time.minute = divmod(minutes, 60)\n",
    "    return time\n",
    "\n",
    "\n",
    "def mul_time(time, num):\n",
    "    \"\"\"\n",
    "    接收一个Time对象以及一个数字，返回一个原始时间和数字的乘积的新时间对象\n",
    "\n",
    "    time:时间对象\n",
    "    num:时间乘积倍数\n",
    "    \"\"\"\n",
    "    seconds = time_to_int(time) * num\n",
    "    return int_to_time(seconds)\n",
    "\n",
    "# 编写一个函数，接收一个表示比赛结束时间的Time对象，以及一个表示距离的数字，返回一个表示平均配速的Time对象。\n",
    "def divmod_time(time, num):\n",
    "    seconds = time_to_int(time) / num\n",
    "    return int_to_time(seconds)\n",
    "\n",
    "time = Time()\n",
    "time.hour = 2\n",
    "time.minute = 50\n",
    "time.second = 59\n",
    "\n",
    "num = 26.2\n",
    "\n",
    "# time1 = mul_time(time, num)\n",
    "time1 = divmod_time(time, num)\n",
    "print((time1.hour, time1.minute, time1.second))"
   ]
  },
  {
   "cell_type": "code",
   "execution_count": 1,
   "metadata": {},
   "outputs": [
    {
     "name": "stdout",
     "output_type": "stream",
     "text": [
      "当前日期是：2024-10-17, 星期：4\n",
      "delta:8 days, 12:25:45.808771\n",
      "days:8\n"
     ]
    }
   ],
   "source": [
    "from datetime import datetime, date\n",
    "\n",
    "# 1. 使用 datetime模块编写程序，获取当前日期并打印星期几\n",
    "# datetime.date 一个理想化的简单型日期。属性：year, month, and day.\n",
    "def get_now_time():\n",
    "    \"\"\"获取当前日期并打印星期几\"\"\"\n",
    "    time = date.today()\n",
    "    weekday= time.isoweekday()\n",
    "    print(f'当前日期是：{time}, 星期：{weekday}')\n",
    "    return time\n",
    "\n",
    "# 2. 编写个程序，输入生日，输出用户的年龄以及距离下个生日的天数，小时数，分钟数和秒数。\n",
    "def days_until_birthday(birthday):\n",
    "    \"\"\"How long until my next birthday?\"\"\"\n",
    "    today = datetime.today()\n",
    "    # when is my birthday this year?\n",
    "    next_birthday = datetime(today.year, birthday.month, birthday.day)\n",
    "\n",
    "    # datetime对象之间的运算好像是可以直接用来比较和增减的，和数值一样。\n",
    "    # 会不会是因为内部就和元组一样，能比较能运算。\n",
    "    # if it has gone by, when will it be next yead\n",
    "    if today > next_birthday:\n",
    "        # 说明今年已经过了生日了\n",
    "        next_birthday = datetime(today.year + 1, birthday.month, birthday.day)\n",
    "    \n",
    "    # subtraction on datetime objects returns a timedelta onject\n",
    "    delta = next_birthday - today\n",
    "    print(f'delta:{delta}')\n",
    "    return delta.days\n",
    "\n",
    "today = get_now_time()\n",
    "birthday = datetime(2000, 10, 26)\n",
    "days = days_until_birthday(birthday)\n",
    "print(f'days:{days}')\n"
   ]
  },
  {
   "cell_type": "code",
   "execution_count": null,
   "metadata": {},
   "outputs": [],
   "source": []
  }
 ],
 "metadata": {
  "kernelspec": {
   "display_name": "Python 3",
   "language": "python",
   "name": "python3"
  },
  "language_info": {
   "codemirror_mode": {
    "name": "ipython",
    "version": 3
   },
   "file_extension": ".py",
   "mimetype": "text/x-python",
   "name": "python",
   "nbconvert_exporter": "python",
   "pygments_lexer": "ipython3",
   "version": "3.9.6"
  }
 },
 "nbformat": 4,
 "nbformat_minor": 2
}
