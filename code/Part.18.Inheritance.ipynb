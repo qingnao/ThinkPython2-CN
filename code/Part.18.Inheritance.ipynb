{
 "cells": [
  {
   "cell_type": "markdown",
   "metadata": {},
   "source": [
    "# 第18章 继承\n",
    "\n"
   ]
  },
  {
   "cell_type": "markdown",
   "metadata": {},
   "source": [
    "等级的映射编码更容易明白了；每个数字等级对应相应的整数，对于脸牌，编码如下：    \n",
    "J(Jack)    ➡️   11  \n",
    "Q(Queen)   ➡️   12  \n",
    "K(King)    ➡️   13  \n",
    "\n",
    "我用 ➡️ 符号表示映射比较清晰明了，但不能写入Python程序中。它们只是`程序设计的一部分`，不应出现在代码中。"
   ]
  },
  {
   "cell_type": "code",
   "execution_count": 1,
   "metadata": {},
   "outputs": [
    {
     "name": "stdout",
     "output_type": "stream",
     "text": [
      "Jack of Hearts\n"
     ]
    }
   ],
   "source": [
    "class Card:\n",
    "    \"\"\"Represents a standard playing card.\"\"\"\n",
    "    \n",
    "    def __init__(self, suit=0, rank=2):\n",
    "        self.suit = suit\n",
    "        self.rank = rank\n",
    "    \n",
    "    suit_names = ['Clubs', 'Diamonds', 'Hearts', 'Spades']\n",
    "    rank_names = [None, 'Ace', '2', '3', '4', '5', '6', '7',\n",
    "                '8', '9', '10', 'Jack', 'Queen', 'King']\n",
    "    \n",
    "    def __str__(self):\n",
    "        return '%s of %s' % (Card.rank_names[self.rank],\n",
    "                             Card.suit_names[self.suit])\n",
    "        \n",
    "    # 简便起见，我们定义花色更重要，所以所有的黑桃大于任意方块，以此类推。      \n",
    "    # 定好规则，我们便可以编写__lt__了:\n",
    "    def __lt__(self, other):\n",
    "        # check the suits\n",
    "        if self.suit < other.suit: return True\n",
    "        if self.suit > other.suit: return False\n",
    "\n",
    "        # sutis are the same... check ranks\n",
    "        return self.rank < other.rank\n",
    "    \n",
    "    # 使用元组来比较，更加简洁:\n",
    "    def __lt__(self, other):\n",
    "        t1 = self.suit, self.rank\n",
    "        t2 = other.suit, other.rank\n",
    "        return t1 < t2\n",
    "    \n",
    "    \n",
    "\n",
    "# 利用现有方法，我们可以创建并打印纸牌：\n",
    "card1 = Card(2, 11)\n",
    "print(card1)\n"
   ]
  },
  {
   "cell_type": "markdown",
   "metadata": {},
   "source": [
    "像变量suit_names和rank_names一样，定义在类的内部，但同时在方法外部的变量，叫做类属性，因为它们属于Card这个类对象。用来存储数据。  \n",
    "\n",
    "无论何种类型的属性，都是通过点标法来获取。比如，在__str__中，self是指卡牌对象，同时 self.rank 是其等级。同样，Card是个类对象，Card.rank_names 表示与类相关的字符串列表。"
   ]
  },
  {
   "cell_type": "markdown",
   "metadata": {},
   "source": [
    "#### 18.3 比较卡牌\n",
    "\n",
    "对于内置类型，有比较运算符（<,>,==,等.）可以比较值，并判断一个值大于，小于或者等于另一个。对于自定义类型，我们可以提供一个表示“小于”的__lt__方法，来覆盖内置运算符的操作。\n",
    "\n",
    "__lt__接收两个参数，self和 other，并在 self小于 other时返回 True。\n",
    "\n",
    "文涛：现在终于学到了这一步，在类的内部编写处理方法，比较大小的方法。以前只是遇到过，但浅尝辄止，现在可以系统的学习这些用法，真是受益匪浅。一定要仔细阅读几遍。"
   ]
  },
  {
   "cell_type": "markdown",
   "metadata": {},
   "source": [
    "#### 18.4 整幅牌\n",
    "\n",
    "现在我们有Card类类，下一步要定义整幅牌（Deck）了。既然整幅牌要由卡牌构成，那自然每幅牌都应该包含一个卡牌列表作为属性。\n",
    "\n",
    "下面是 Deck 的类定义。int方法新建了一个 cards属性，同时生成了标准的 52张牌："
   ]
  },
  {
   "cell_type": "code",
   "execution_count": 16,
   "metadata": {},
   "outputs": [
    {
     "name": "stdout",
     "output_type": "stream",
     "text": [
      "King of Spades\n"
     ]
    }
   ],
   "source": [
    "import random\n",
    "\n",
    "class Deck:\n",
    "    \n",
    "    def __init__(self):\n",
    "        self.cards = []\n",
    "        # 生成一幅牌最容易的方法就是嵌套循环了。\n",
    "        for suit in range(4):\n",
    "            for rank in range(1, 14):\n",
    "                card = Card(suit, rank)\n",
    "                self.cards.append(card)\n",
    "    \n",
    "    \n",
    "    def __str__(self):\n",
    "        res = []\n",
    "        for card in self.cards:\n",
    "            res.append(str(card))\n",
    "        return '\\n'.join(res)\n",
    "    # 这个方法展示了一个拼接超大字符串的高效方法：建立一个字符串列表，然后使用字符串方法 join进行连接。\n",
    "    # 内置函数 str 会对每个card都应用__str__方法，以返回字符串格式。\n",
    "    # 我们在换行符上调用了 join方法，卡牌之间被分隔成了新行。\n",
    "    \n",
    "    \n",
    "    # 若要发牌，首先需要一个能够从整幅牌中移除并返回此对象的方法。列表方法 pop 提供了一种便捷的方法：\n",
    "    # 由于 pop时从列表中移除最后一张牌，所以我们从底部发牌。\n",
    "    def pop_card(self):\n",
    "        return self.cards.pop()\n",
    "    \n",
    "    \n",
    "    # 若要添加一张牌，可以用列表方法 append:\n",
    "    def add_card(self, card):\n",
    "        self.cards.append(card)\n",
    "    \n",
    "    # 像上面这样仅使用另一个方法，而不做过多操作，有时被称为 veneer(装饰)。\n",
    "    # add_card是一个“薄”方法，用卡牌术语的方式，表达列表操作。这会令实现的外观或者接口，容易理解。\n",
    "    \n",
    "    # 我们可以用 random模块中 shuffle函数，进行洗牌。\n",
    "    def shuffle(self):\n",
    "        random.shuffle(self.cards)\n",
    "        \n",
    "    \n",
    "    # move_cards方法会接收两个参数，一个Hand对象，一个发牌数量。同时也会修改slef和hand，将self\n",
    "    def move_cards(self, hand, num):\n",
    "        for i in range(num):\n",
    "            hand.add_card(self.pop_card())\n",
    "            \n",
    "            \n",
    "    # 此方法会创建相应数量的手牌对象，给每幅手牌分配相应数量的卡牌\n",
    "    def deal_hands(self, hand_nums, card_nums):\n",
    "        # 一共分出几幅手牌，每幅手牌要分多少张。\n",
    "        for i in range(hand_nums):\n",
    "            hand = Hand()\n",
    "            \n",
    "        pass\n",
    "        \n",
    "        \n",
    "        \n",
    "        \n",
    "    \n",
    "deck = Deck()\n",
    "print(deck)"
   ]
  },
  {
   "cell_type": "markdown",
   "metadata": {},
   "source": [
    "#### 18.7 继承\n",
    "\n",
    "类之间这种--相似却又不同--的关系，非常适合使用继承。若要定义一个继承自现有类的新类，只需要将现有类的名称放在括号中即可：\n",
    "\n",
    "这个定义表明Hand继承自Deck；也就是说，我们可以像Deck一样对Hand应用pop_card和add_card方法。\n",
    "\n",
    "当一个新类继承自现有类，那么现有的类叫做父类，新的类叫做子类。"
   ]
  },
  {
   "cell_type": "code",
   "execution_count": 18,
   "metadata": {},
   "outputs": [
    {
     "name": "stdout",
     "output_type": "stream",
     "text": [
      "King of Spades\n"
     ]
    }
   ],
   "source": [
    "class Hand(Deck):\n",
    "    \"\"\"Represents a hand of playing cards.\"\"\"\n",
    "    \n",
    "    # 当你创建一个Hand时，Python便会调用这个int方法，而不是Deck中的那个。\n",
    "    def __init__(self, label=''):\n",
    "        self.cards = []\n",
    "        self.label = label\n",
    "    \n",
    "hand = Hand('new hand')\n",
    "hand.cards\n",
    "hand.label\n",
    "\n",
    "# 其他的方法从 Deck继承而来，所以我们可以用 pop_catd和add_card方法来发牌：\n",
    "deck = Deck()\n",
    "card = deck.pop_card()\n",
    "hand.add_card(card)\n",
    "print(hand)\n",
    "# 很显然，下一步就是要把这些代码封装进一个叫move_cards的方法中：\n"
   ]
  },
  {
   "cell_type": "markdown",
   "metadata": {},
   "source": [
    "继承是种很有用的特性。某些没用继承的重复性代码，使用继承可以变得更优雅。继承也方便了代码复用，你可以通过修改父类行为，为子类都增加行为。在某些情况下，继承的结构反映了问题的真正结构，也就使得设计更易于理解。\n",
    "\n",
    "另一方面，继承会使程序变得难以阅读。当调用一个方法时，有时很难搞明白它的定义在哪里。相关代码可能分散在某个模块。此外，很多使用继承实现的事情，不用继承也能做到，甚至做的更好。"
   ]
  },
  {
   "cell_type": "markdown",
   "metadata": {},
   "source": [
    "#### 18.9 调试\n",
    "\n",
    "继承可能会令调试变得困难，因为当你调用对象的方法时，可能很难确定是调用的哪个方法。你可能用的是Deck中定义的方法，但如果子类重写了这个方法，你调用的便是子类中的方法来。这个特性说来是好事，但有时令人困惑。\n",
    "\n",
    "如果你不确定程序执行流程的时候，最简单的方法便是在相关方法开始处添加打印语句，输出信息。如果 Deck.shuffle 打印了一条信息, 如 Running Deck.shuffle, 那便可以据此来追踪执行流程。"
   ]
  }
 ],
 "metadata": {
  "kernelspec": {
   "display_name": "Python 3",
   "language": "python",
   "name": "python3"
  },
  "language_info": {
   "codemirror_mode": {
    "name": "ipython",
    "version": 3
   },
   "file_extension": ".py",
   "mimetype": "text/x-python",
   "name": "python",
   "nbconvert_exporter": "python",
   "pygments_lexer": "ipython3",
   "version": "3.9.6"
  }
 },
 "nbformat": 4,
 "nbformat_minor": 2
}
